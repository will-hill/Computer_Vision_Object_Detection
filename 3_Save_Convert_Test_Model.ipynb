{
 "cells": [
  {
   "cell_type": "markdown",
   "metadata": {
    "toc": true
   },
   "source": [
    "<h1>contents<span class=\"tocSkip\"></span></h1>\n",
    "<div class=\"toc\"><ul class=\"toc-item\"><li><span><a href=\"#Create-Simple-Model\" data-toc-modified-id=\"Create-Simple-Model-1\"><span class=\"toc-item-num\">1&nbsp;&nbsp;</span>Create Simple Model</a></span></li><li><span><a href=\"#Convert-Model-to-JSON\" data-toc-modified-id=\"Convert-Model-to-JSON-2\"><span class=\"toc-item-num\">2&nbsp;&nbsp;</span>Convert Model to JSON</a></span></li><li><span><a href=\"#JSON-to-YAML\" data-toc-modified-id=\"JSON-to-YAML-3\"><span class=\"toc-item-num\">3&nbsp;&nbsp;</span>JSON to YAML</a></span></li><li><span><a href=\"#Test-YAML-ized-model\" data-toc-modified-id=\"Test-YAML-ized-model-4\"><span class=\"toc-item-num\">4&nbsp;&nbsp;</span>Test YAML-ized model</a></span></li></ul></div>"
   ]
  },
  {
   "cell_type": "markdown",
   "metadata": {},
   "source": [
    "# Save, Convert, Test Model"
   ]
  },
  {
   "cell_type": "markdown",
   "metadata": {},
   "source": [
    "## Create Simple Model"
   ]
  },
  {
   "cell_type": "code",
   "execution_count": 1,
   "metadata": {},
   "outputs": [],
   "source": [
    "!rm -rf Detector.mat Log.txt octave-workspace"
   ]
  },
  {
   "cell_type": "code",
   "execution_count": 2,
   "metadata": {},
   "outputs": [
    {
     "name": "stdout",
     "output_type": "stream",
     "text": [
      "---------------------------------------------------------------------------\n",
      "Training stage 0\n",
      "Done sampling windows (time=0s).\n",
      "Computing lambdas... done (time=1s).\n",
      "Extracting features... done (time=0s).\n",
      "Done sampling windows (time=0s).\n",
      "Extracting features... done (time=0s).\n",
      "Training AdaBoost: nWeak=128 nFtrs=250 pos=88 neg=3\n",
      "warning: division by zero\n",
      "warning: called from\n",
      "    binaryTreeTrain at line 114 column 8\n",
      "    adaBoostTrain at line 79 column 17\n",
      "    acfTrain at line 200 column 16\n",
      "warning: division by zero\n",
      "warning: called from\n",
      "    adaBoostTrain at line 84 column 31\n",
      "    acfTrain at line 200 column 16\n",
      "warning: division by zero\n",
      "warning: called from\n",
      "    binaryTreeTrain at line 114 column 8\n",
      "    adaBoostTrain at line 79 column 17\n",
      "    acfTrain at line 200 column 16\n",
      "warning: division by zero\n",
      "warning: called from\n",
      "    adaBoostTrain at line 84 column 31\n",
      "    acfTrain at line 200 column 16\n",
      "warning: division by zero\n",
      "warning: called from\n",
      "    binaryTreeTrain at line 114 column 8\n",
      "    adaBoostTrain at line 79 column 17\n",
      "    acfTrain at line 200 column 16\n",
      "warning: division by zero\n",
      "warning: called from\n",
      "    adaBoostTrain at line 84 column 31\n",
      "    acfTrain at line 200 column 16\n",
      "warning: division by zero\n",
      "warning: called from\n",
      "    binaryTreeTrain at line 114 column 8\n",
      "    adaBoostTrain at line 79 column 17\n",
      "    acfTrain at line 200 column 16\n",
      "warning: division by zero\n",
      "warning: called from\n",
      "    adaBoostTrain at line 84 column 31\n",
      "    acfTrain at line 200 column 16\n",
      "warning: division by zero\n",
      "warning: called from\n",
      "    binaryTreeTrain at line 114 column 8\n",
      "    adaBoostTrain at line 79 column 17\n",
      "    acfTrain at line 200 column 16\n",
      "warning: division by zero\n",
      "warning: called from\n",
      "    adaBoostTrain at line 84 column 31\n",
      "    acfTrain at line 200 column 16\n",
      "warning: division by zero\n",
      "warning: called from\n",
      "    binaryTreeTrain at line 114 column 8\n",
      "    adaBoostTrain at line 79 column 17\n",
      "    acfTrain at line 200 column 16\n",
      "warning: division by zero\n",
      "warning: called from\n",
      "    adaBoostTrain at line 84 column 31\n",
      "    acfTrain at line 200 column 16\n",
      "warning: division by zero\n",
      "warning: called from\n",
      "    binaryTreeTrain at line 114 column 8\n",
      "    adaBoostTrain at line 79 column 17\n",
      "    acfTrain at line 200 column 16\n",
      "warning: division by zero\n",
      "warning: called from\n",
      "    adaBoostTrain at line 84 column 31\n",
      "    acfTrain at line 200 column 16\n",
      "warning: division by zero\n",
      "warning: called from\n",
      "    binaryTreeTrain at line 114 column 8\n",
      "    adaBoostTrain at line 79 column 17\n",
      "    acfTrain at line 200 column 16\n",
      "warning: division by zero\n",
      "warning: called from\n",
      "    adaBoostTrain at line 84 column 31\n",
      "    acfTrain at line 200 column 16\n",
      "warning: division by zero\n",
      "warning: called from\n",
      "    binaryTreeTrain at line 114 column 8\n",
      "    adaBoostTrain at line 79 column 17\n",
      "    acfTrain at line 200 column 16\n",
      "warning: division by zero\n",
      "warning: called from\n",
      "    adaBoostTrain at line 84 column 31\n",
      "    acfTrain at line 200 column 16\n",
      "warning: division by zero\n",
      "warning: called from\n",
      "    binaryTreeTrain at line 114 column 8\n",
      "    adaBoostTrain at line 79 column 17\n",
      "    acfTrain at line 200 column 16\n",
      "warning: division by zero\n",
      "warning: called from\n",
      "    adaBoostTrain at line 84 column 31\n",
      "    acfTrain at line 200 column 16\n",
      "warning: division by zero\n",
      "warning: called from\n",
      "    binaryTreeTrain at line 114 column 8\n",
      "    adaBoostTrain at line 79 column 17\n",
      "    acfTrain at line 200 column 16\n",
      "warning: division by zero\n",
      "warning: called from\n",
      "    adaBoostTrain at line 84 column 31\n",
      "    acfTrain at line 200 column 16\n",
      "warning: division by zero\n",
      "warning: called from\n",
      "    binaryTreeTrain at line 114 column 8\n",
      "    adaBoostTrain at line 79 column 17\n",
      "    acfTrain at line 200 column 16\n",
      "warning: division by zero\n",
      "warning: called from\n",
      "    adaBoostTrain at line 84 column 31\n",
      "    acfTrain at line 200 column 16\n",
      "warning: division by zero\n",
      "warning: called from\n",
      "    binaryTreeTrain at line 114 column 8\n",
      "    adaBoostTrain at line 79 column 17\n",
      "    acfTrain at line 200 column 16\n",
      "warning: division by zero\n",
      "warning: called from\n",
      "    adaBoostTrain at line 84 column 31\n",
      "    acfTrain at line 200 column 16\n",
      "warning: division by zero\n",
      "warning: called from\n",
      "    binaryTreeTrain at line 114 column 8\n",
      "    adaBoostTrain at line 79 column 17\n",
      "    acfTrain at line 200 column 16\n",
      "warning: division by zero\n",
      "warning: called from\n",
      "    adaBoostTrain at line 84 column 31\n",
      "    acfTrain at line 200 column 16\n",
      "warning: division by zero\n",
      "warning: called from\n",
      "    binaryTreeTrain at line 114 column 8\n",
      "    adaBoostTrain at line 79 column 17\n",
      "    acfTrain at line 200 column 16\n",
      "warning: division by zero\n",
      "warning: called from\n",
      "    adaBoostTrain at line 84 column 31\n",
      "    acfTrain at line 200 column 16\n",
      "warning: division by zero\n",
      "warning: called from\n",
      "    binaryTreeTrain at line 114 column 8\n",
      "    adaBoostTrain at line 79 column 17\n",
      "    acfTrain at line 200 column 16\n",
      "warning: division by zero\n",
      "warning: called from\n",
      "    adaBoostTrain at line 84 column 31\n",
      "    acfTrain at line 200 column 16\n",
      " i=  16 alpha=5.000 err=0.000 loss=1.80e-35\n",
      "warning: division by zero\n",
      "warning: called from\n",
      "    binaryTreeTrain at line 114 column 8\n",
      "    adaBoostTrain at line 79 column 17\n",
      "    acfTrain at line 200 column 16\n",
      "warning: division by zero\n",
      "warning: called from\n",
      "    adaBoostTrain at line 84 column 31\n",
      "    acfTrain at line 200 column 16\n",
      "warning: division by zero\n",
      "warning: called from\n",
      "    binaryTreeTrain at line 114 column 8\n",
      "    adaBoostTrain at line 79 column 17\n",
      "    acfTrain at line 200 column 16\n",
      "warning: division by zero\n",
      "warning: called from\n",
      "    adaBoostTrain at line 84 column 31\n",
      "    acfTrain at line 200 column 16\n",
      "warning: division by zero\n",
      "warning: called from\n",
      "    binaryTreeTrain at line 114 column 8\n",
      "    adaBoostTrain at line 79 column 17\n",
      "    acfTrain at line 200 column 16\n",
      "warning: division by zero\n",
      "warning: called from\n",
      "    adaBoostTrain at line 84 column 31\n",
      "    acfTrain at line 200 column 16\n",
      " stopping early\n",
      "Done training err=0.0000 fp=0.0000 fn=0.0000 (t=0.1s).\n",
      "Done training stage 0 (time=1s).\n",
      "---------------------------------------------------------------------------\n",
      "Done training (time=1s).\n"
     ]
    }
   ],
   "source": [
    "clc;\n",
    "clear;\n",
    "addpath(genpath('octave'));\n",
    "opts=acfTrain();\n",
    "opts.posWinDir = 'images/simple/posWinDir/';\n",
    "opts.negWinDir = 'images/simple/negWinDir/';\n",
    "opts.modelDs = [19  19];\n",
    "opts.modelDsPad = [20  20];\n",
    "model = acfTrain(opts);"
   ]
  },
  {
   "cell_type": "markdown",
   "metadata": {},
   "source": [
    "## Convert Model to JSON"
   ]
  },
  {
   "cell_type": "code",
   "execution_count": 3,
   "metadata": {},
   "outputs": [],
   "source": [
    "simple_model_json = savejson('simple_model',model);"
   ]
  },
  {
   "cell_type": "code",
   "execution_count": 4,
   "metadata": {},
   "outputs": [],
   "source": [
    "json_file = fopen('simple_model.json', 'w');\n",
    "fdisp(json_file, simple_model_json);\n",
    "fclose(json_file);"
   ]
  },
  {
   "cell_type": "code",
   "execution_count": 5,
   "metadata": {},
   "outputs": [
    {
     "name": "stdout",
     "output_type": "stream",
     "text": [
      "simple_model.json\n"
     ]
    }
   ],
   "source": [
    "!ls simple_model.json"
   ]
  },
  {
   "cell_type": "code",
   "execution_count": 6,
   "metadata": {},
   "outputs": [
    {
     "name": "stdout",
     "output_type": "stream",
     "text": [
      "{\n",
      "\t\"simple_model\": {\n",
      "\t\t\"opts\": {\n",
      "\t\t\t\"pPyramid\": {\n"
     ]
    }
   ],
   "source": [
    "!head -4 simple_model.json"
   ]
  },
  {
   "cell_type": "markdown",
   "metadata": {},
   "source": [
    "## JSON to YAML"
   ]
  },
  {
   "cell_type": "code",
   "execution_count": 7,
   "metadata": {},
   "outputs": [],
   "source": [
    "!python python/json_2_yaml.py simple_model.json simple_model"
   ]
  },
  {
   "cell_type": "code",
   "execution_count": 8,
   "metadata": {},
   "outputs": [
    {
     "name": "stdout",
     "output_type": "stream",
     "text": [
      "simple_model.json.2.yaml\n"
     ]
    }
   ],
   "source": [
    "!ls simple_model.json.2.yaml"
   ]
  },
  {
   "cell_type": "code",
   "execution_count": 9,
   "metadata": {},
   "outputs": [
    {
     "name": "stdout",
     "output_type": "stream",
     "text": [
      "%YAML 1.0\n",
      "---\n",
      "simple_model:\n",
      "    format: 3\n",
      "    pyramid:\n",
      "        channel_features:\n",
      "            shrink: 4\n"
     ]
    }
   ],
   "source": [
    "!head -7 simple_model.json.2.yaml"
   ]
  },
  {
   "cell_type": "markdown",
   "metadata": {},
   "source": [
    "## Test YAML-ized model"
   ]
  },
  {
   "cell_type": "code",
   "execution_count": 10,
   "metadata": {},
   "outputs": [
    {
     "name": "stdout",
     "output_type": "stream",
     "text": [
      "processing singel image\n",
      "5 total bounding boxes \n",
      "saving cropped image file:  cropped_theron_score_95.094994.png\n",
      "1 bounding boxes meet score criteria\n",
      "saving scored image file:  0_scored_theron.png\n",
      "complete with no errors\n"
     ]
    }
   ],
   "source": [
    "!./detector.bin simple_model.json.2.yaml images/theron.png 0"
   ]
  },
  {
   "cell_type": "code",
   "execution_count": 16,
   "metadata": {},
   "outputs": [
    {
     "name": "stdout",
     "output_type": "stream",
     "text": [
      "cropped_theron_score_95.094994.png\tscored_theron.png\n"
     ]
    }
   ],
   "source": [
    "!ls *.png"
   ]
  },
  {
   "cell_type": "code",
   "execution_count": 12,
   "metadata": {},
   "outputs": [
    {
     "data": {
      "image/png": "[encoded data removed]",
      "text/plain": [
       "<Figure size 720x720 with 3 Axes>"
      ]
     },
     "metadata": {
      "needs_background": "light"
     },
     "output_type": "display_data"
    }
   ],
   "source": [
    "import glob\n",
    "import matplotlib.pyplot as plt\n",
    "import matplotlib.image as mpimg\n",
    "%matplotlib inline\n",
    "\n",
    "images = []\n",
    "images.append(mpimg.imread('images/theron.png'))\n",
    "for img_path in glob.glob('*.png'):\n",
    "    images.append(mpimg.imread(img_path))\n",
    "\n",
    "plt.figure(figsize=(10,10))\n",
    "columns = 5\n",
    "for i, image in enumerate(images):\n",
    "    plt.subplot(len(images) / columns + 1, columns, i + 1)\n",
    "    plt.imshow(image)"
   ]
  },
  {
   "cell_type": "markdown",
   "metadata": {},
   "source": [
    "scored"
   ]
  },
  {
   "cell_type": "code",
   "execution_count": 15,
   "metadata": {},
   "outputs": [
    {
     "name": "stdout",
     "output_type": "stream",
     "text": [
      "/Users/Bhill/git/Computer_Vision_Object_Detection/images/theron.png\r\n",
      "  pixelHeight: 25\r\n",
      "  pixelWidth: 25\r\n"
     ]
    }
   ],
   "source": [
    "!sips -g pixelHeight -g pixelWidth images/theron.png"
   ]
  },
  {
   "cell_type": "markdown",
   "metadata": {},
   "source": [
    "<img src=\"scored_theron.png\" alt=\"Drawing\" style=\"width: 200px;\"/>  "
   ]
  },
  {
   "cell_type": "markdown",
   "metadata": {},
   "source": [
    "detection cropped"
   ]
  },
  {
   "cell_type": "code",
   "execution_count": 16,
   "metadata": {},
   "outputs": [
    {
     "name": "stdout",
     "output_type": "stream",
     "text": [
      "/Users/Bhill/git/Computer_Vision_Object_Detection/cropped_theron_score_95.094994.png\r\n",
      "  pixelHeight: 24\r\n",
      "  pixelWidth: 24\r\n"
     ]
    }
   ],
   "source": [
    "!sips -g pixelHeight -g pixelWidth cropped_theron_score_95.094994.png"
   ]
  },
  {
   "cell_type": "markdown",
   "metadata": {},
   "source": [
    "<img src=\"cropped_theron_score_95.094994.png\" alt=\"Drawing\" style=\"width: 200px;\"/>  "
   ]
  },
  {
   "cell_type": "code",
   "execution_count": null,
   "metadata": {},
   "outputs": [],
   "source": []
  }
 ],
 "metadata": {
  "kernelspec": {
   "display_name": "Octave",
   "language": "octave",
   "name": "octave"
  },
  "language_info": {
   "file_extension": ".m",
   "help_links": [
    {
     "text": "GNU Octave",
     "url": "https://www.gnu.org/software/octave/support.html"
    },
    {
     "text": "Octave Kernel",
     "url": "https://github.com/Calysto/octave_kernel"
    },
    {
     "text": "MetaKernel Magics",
     "url": "https://github.com/calysto/metakernel/blob/master/metakernel/magics/README.md"
    }
   ],
   "mimetype": "text/x-octave",
   "name": "octave",
   "version": "4.4.1"
  },
  "toc": {
   "base_numbering": 1,
   "nav_menu": {},
   "number_sections": true,
   "sideBar": true,
   "skip_h1_title": true,
   "title_cell": "contents",
   "title_sidebar": "contents",
   "toc_cell": true,
   "toc_position": {},
   "toc_section_display": true,
   "toc_window_display": true
  }
 },
 "nbformat": 4,
 "nbformat_minor": 2
}
