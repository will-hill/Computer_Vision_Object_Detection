{
 "cells": [
  {
   "cell_type": "markdown",
   "metadata": {
    "toc": true
   },
   "source": [
    "<h1>contents<span class=\"tocSkip\"></span></h1>\n",
    "<div class=\"toc\"><ul class=\"toc-item\"></ul></div>"
   ]
  },
  {
   "cell_type": "code",
   "execution_count": 1,
   "metadata": {},
   "outputs": [],
   "source": [
    "import dataiku\n",
    "import numpy as np\n",
    "from path import Path\n",
    "import oct2py as op\n",
    "import pandas as pd"
   ]
  },
  {
   "cell_type": "code",
   "execution_count": 2,
   "metadata": {},
   "outputs": [
    {
     "data": {
      "text/plain": [
       "Path('Log.txt')"
      ]
     },
     "execution_count": 2,
     "metadata": {},
     "output_type": "execute_result"
    }
   ],
   "source": [
    "Path(\"octave-workspace\").remove_p()\n",
    "Path(\"Detector.mat\").remove_p()\n",
    "Path(\"Log.txt\").remove_p()"
   ]
  },
  {
   "cell_type": "code",
   "execution_count": 3,
   "metadata": {},
   "outputs": [],
   "source": [
    "model_name = 'one_tree_1_img'"
   ]
  },
  {
   "cell_type": "code",
   "execution_count": 4,
   "metadata": {},
   "outputs": [],
   "source": [
    "octave_code = 'octave'"
   ]
  },
  {
   "cell_type": "markdown",
   "metadata": {},
   "source": [
    "Compile **C++** 'MEX' files for Octave/Matlab for local OS - might need some massaging depending on local OS"
   ]
  },
  {
   "cell_type": "code",
   "execution_count": 5,
   "metadata": {},
   "outputs": [],
   "source": [
    "%%capture\n",
    "\"\"\"\n",
    "!cd {octave_code}/toolbox/channels/private/ ; mkoctfile --mex -DMATLAB_MEX_FILE rgbConvertMex.cpp\n",
    "!cd {octave_code}/toolbox/channels/private/ ; mkoctfile --mex -DMATLAB_MEX_FILE gradientMex.cpp\n",
    "!cd {octave_code}/toolbox/channels/private/ ; mkoctfile --mex -DMATLAB_MEX_FILE convConst.cpp\n",
    "!cd {octave_code}/toolbox/channels/private/ ; mkoctfile --mex -DMATLAB_MEX_FILE imPadMex.cpp\n",
    "!cd {octave_code}/toolbox/channels/private/ ; mkoctfile --mex -DMATLAB_MEX_FILE imResampleMex.cpp\n",
    "!cd {octave_code}/toolbox/classify/private/ ; mkoctfile --mex -DMATLAB_MEX_FILE binaryTreeTrain1.cpp\n",
    "!cd {octave_code}/toolbox/classify/private/ ; mkoctfile --mex -DMATLAB_MEX_FILE forestInds.cpp\n",
    "\"\"\""
   ]
  },
  {
   "cell_type": "code",
   "execution_count": 6,
   "metadata": {},
   "outputs": [],
   "source": [
    "octave = op.Oct2Py()\n",
    "octave.restart()\n",
    "octave.eval('clear all')"
   ]
  },
  {
   "cell_type": "code",
   "execution_count": 7,
   "metadata": {},
   "outputs": [],
   "source": [
    "%%capture\n",
    "octave.addpath(octave.genpath(octave_code))"
   ]
  },
  {
   "cell_type": "code",
   "execution_count": 8,
   "metadata": {},
   "outputs": [],
   "source": [
    "posWinDir = 'images/simple/posWinDir'\n",
    "negWinDir = 'images/simple/negWinDir'"
   ]
  },
  {
   "cell_type": "code",
   "execution_count": 9,
   "metadata": {},
   "outputs": [],
   "source": [
    "params = pd.read_csv('train_params.csv')"
   ]
  },
  {
   "cell_type": "code",
   "execution_count": 10,
   "metadata": {},
   "outputs": [],
   "source": [
    "# params = train_params_df.loc[train_params_df['name'] == model_name]\n",
    "\n",
    "opts_modelDs_height    = params['opts.modelDs.height'].values[0]\n",
    "opts_modelDs_width     = params['opts.modelDs.width'].values[0]\n",
    "opts_modelDsPad_height = params['opts.modelDsPad.height'].values[0]\n",
    "opts_modelDsPad_width  = params['opts.modelDsPad.width'].values[0]\n",
    "stride                 = params['stride'].values[0]\n",
    "cascThr                = params['cascThr'].values[0]\n",
    "cascCal                = params['cascCal'].values[0]\n",
    "nWeak                  = params['nWeak'].values[0]\n",
    "seed                   = params['seed'].values[0]\n",
    "nPos                   = params['nPos'].values[0]\n",
    "nNeg                   = params['nNeg'].values[0]\n",
    "nPerNeg                = params['nPerNeg'].values[0]\n",
    "nAccNeg                = params['nAccNeg'].values[0]\n",
    "winsSave               = params['winsSave'].values[0]"
   ]
  },
  {
   "cell_type": "code",
   "execution_count": 12,
   "metadata": {},
   "outputs": [],
   "source": [
    "%%capture\n",
    "\"\"\"\n",
    "opts_modelDs_height    = 19\n",
    "opts_modelDs_width     = 19\n",
    "opts_modelDsPad_height = 20\n",
    "opts_modelDsPad_width  = 20\n",
    "stride                 = 1\n",
    "cascThr                = -1\n",
    "cascCal                = 0.005\n",
    "nWeak                  = 1\n",
    "seed                   = 0\n",
    "nPos                   = 1\n",
    "nNeg                   = 0\n",
    "nPerNeg                = 1\n",
    "nAccNeg                = 1\n",
    "winsSave               = 0\n",
    "\"\"\""
   ]
  },
  {
   "cell_type": "code",
   "execution_count": 11,
   "metadata": {},
   "outputs": [],
   "source": [
    "Path(\"Detector.mat\").remove_p()\n",
    "Path(\"Log.txt\").remove_p()\n",
    "octave.eval(\"opts=acfTrain();\")\n",
    "octave.eval(\"opts.posWinDir = '\" + posWinDir + \"';\")\n",
    "octave.eval(\"opts.negWinDir = '\" + negWinDir + \"';\")"
   ]
  },
  {
   "cell_type": "code",
   "execution_count": 18,
   "metadata": {},
   "outputs": [],
   "source": [
    "octave.eval(\"opts.modelDs = [\" + str(opts_modelDs_height) + \"  \" + str(opts_modelDs_width) + \"];\")\n",
    "octave.eval(\"opts.modelDsPad = [\" + str(opts_modelDsPad_height) + \"  \" + str(opts_modelDsPad_width) + \"];\")\n",
    "octave.eval(\"opts.stride = \" + str(stride) + \";\")\n",
    "octave.eval(\"opts.cascThr = \" + str(cascThr) + \";\")\n",
    "octave.eval(\"opts.cascCal = \" + str(cascCal) + \";\")\n",
    "octave.eval(\"opts.nWeak = \" + str(nWeak) + \";\")\n",
    "octave.eval(\"opts.seed = \" + str(seed) + \";\")\n",
    "octave.eval(\"opts.nPos = \" + str(nPos) + \";\")\n",
    "octave.eval(\"opts.nNeg = \" + str(nNeg) + \";\")\n",
    "octave.eval(\"opts.nPerNeg = \" + str(nPerNeg) + \";\")\n",
    "octave.eval(\"opts.nAccNeg = \" + str(nAccNeg) + \";\")\n",
    "octave.eval(\"opts.winsSave = \" + str(winsSave) + \";\")\n",
    "\n",
    "octave.eval(\"opts.nWeak = \" + str(1) + \";\")"
   ]
  },
  {
   "cell_type": "code",
   "execution_count": 19,
   "metadata": {},
   "outputs": [
    {
     "name": "stdout",
     "output_type": "stream",
     "text": [
      "area.01.png     cubic.01.png    lanczos4.01.png linear.01.png   nearest.01.png\r\n",
      "area.02.png     cubic.02.png    lanczos4.02.png linear.02.png   nearest.02.png\r\n",
      "area.03.png     cubic.03.png    lanczos4.03.png linear.03.png   nearest.03.png\r\n",
      "area.04.png     cubic.04.png    lanczos4.04.png linear.04.png   nearest.04.png\r\n",
      "area.05.png     cubic.05.png    lanczos4.05.png linear.05.png   nearest.05.png\r\n",
      "area.06.png     cubic.06.png    lanczos4.06.png linear.06.png   nearest.06.png\r\n",
      "area.07.png     cubic.07.png    lanczos4.07.png linear.07.png   nearest.07.png\r\n",
      "area.08.png     cubic.08.png    lanczos4.08.png linear.08.png   nearest.08.png\r\n",
      "area.09.png     cubic.09.png    lanczos4.09.png linear.09.png   nearest.09.png\r\n",
      "area.10.png     cubic.10.png    lanczos4.10.png linear.10.png   nearest.10.png\r\n",
      "area.11.png     cubic.11.png    lanczos4.11.png linear.11.png   nearest.11.png\r\n",
      "area.12.png     cubic.12.png    lanczos4.12.png linear.12.png   nearest.12.png\r\n",
      "area.13.png     cubic.13.png    lanczos4.13.png linear.13.png   nearest.13.png\r\n",
      "area.14.png     cubic.14.png    lanczos4.14.png linear.14.png   nearest.14.png\r\n",
      "area.15.png     cubic.15.png    lanczos4.15.png linear.15.png   nearest.15.png\r\n",
      "area.16.png     cubic.16.png    lanczos4.16.png linear.16.png   nearest.16.png\r\n",
      "area.17.png     cubic.17.png    lanczos4.17.png linear.17.png   nearest.17.png\r\n",
      "area.18.png     cubic.18.png    lanczos4.18.png linear.18.png   nearest.18.png\r\n"
     ]
    }
   ],
   "source": [
    "!ls {posWinDir}"
   ]
  },
  {
   "cell_type": "code",
   "execution_count": 20,
   "metadata": {},
   "outputs": [
    {
     "name": "stdout",
     "output_type": "stream",
     "text": [
      "area.GSD.png     lanczos4.GSD.png nearest.GSD.png\r\n",
      "cubic.GSD.png    linear.GSD.png\r\n"
     ]
    }
   ],
   "source": [
    "!ls {negWinDir}"
   ]
  },
  {
   "cell_type": "code",
   "execution_count": 21,
   "metadata": {
    "scrolled": true
   },
   "outputs": [
    {
     "name": "stdout",
     "output_type": "stream",
     "text": [
      "---------------------------------------------------------------------------\n",
      "Training stage 0\n",
      "Done sampling windows (time=0s).\n",
      "Computing lambdas... done (time=0s).\n",
      "Extracting features... done (time=0s).\n",
      "Done sampling windows (time=0s).\n",
      "Extracting features... done (time=0s).\n",
      "Training AdaBoost: nWeak=  1 nFtrs=250 pos=88 neg=3\n",
      "warning: division by zero\n",
      "warning: division by zero\n",
      "Done training err=0.0000 fp=0.0000 fn=0.0000 (t=0.0s).\n",
      "Done training stage 0 (time=1s).\n",
      "---------------------------------------------------------------------------\n",
      "Done training (time=1s).\n"
     ]
    }
   ],
   "source": [
    "Path(\"Detector.mat\").remove_p()\n",
    "Path(\"Log.txt\").remove_p()\n",
    "octave.eval(\"model = acfTrain(opts);\")"
   ]
  },
  {
   "cell_type": "markdown",
   "metadata": {},
   "source": [
    "Convert **Matlab** classifier object to JSON"
   ]
  },
  {
   "cell_type": "code",
   "execution_count": 24,
   "metadata": {},
   "outputs": [
    {
     "data": {
      "text/plain": [
       "0.0"
      ]
     },
     "execution_count": 24,
     "metadata": {},
     "output_type": "execute_result"
    }
   ],
   "source": [
    "octave.eval(\"simple_model_json = savejson('\" + model_name + \"',model);\")\n",
    "octave.eval(\"json_file = fopen('\" + model_name + \".json\" + \"', 'w');\")\n",
    "octave.eval(\"fdisp(json_file, simple_model_json);\")\n",
    "octave.eval(\"fclose(json_file);\")"
   ]
  },
  {
   "cell_type": "code",
   "execution_count": 27,
   "metadata": {},
   "outputs": [
    {
     "name": "stdout",
     "output_type": "stream",
     "text": [
      "one_tree_1_img\r\n"
     ]
    }
   ],
   "source": [
    "!echo {model_name}"
   ]
  },
  {
   "cell_type": "code",
   "execution_count": 28,
   "metadata": {},
   "outputs": [
    {
     "name": "stdout",
     "output_type": "stream",
     "text": [
      "one_tree_1_img.json\r\n"
     ]
    }
   ],
   "source": [
    "!ls {model_name}.json"
   ]
  },
  {
   "cell_type": "code",
   "execution_count": 29,
   "metadata": {},
   "outputs": [
    {
     "name": "stdout",
     "output_type": "stream",
     "text": [
      "{\r\n",
      "\t\"one_tree_1_img\": {\r\n",
      "\t\t\"opts\": {\r\n",
      "\t\t\t\"pPyramid\": {\r\n",
      "\t\t\t\t\"pChns\": {\r\n",
      "\t\t\t\t\t\"shrink\": 4,\r\n",
      "\t\t\t\t\t\"pColor\": {\r\n",
      "\t\t\t\t\t\t\"enabled\": 1,\r\n",
      "\t\t\t\t\t\t\"smooth\": 1,\r\n",
      "\t\t\t\t\t\t\"colorSpace\": \"luv\"\r\n",
      "\t\t\t\t\t},\r\n",
      "\t\t\t\t\t\"pGradMag\": {\r\n",
      "\t\t\t\t\t\t\"enabled\": 1,\r\n",
      "\t\t\t\t\t\t\"colorChn\": 0,\r\n",
      "\t\t\t\t\t\t\"normRad\": 5,\r\n",
      "\t\t\t\t\t\t\"normConst\": 0.005,\r\n",
      "\t\t\t\t\t\t\"full\": 0\r\n",
      "\t\t\t\t\t},\r\n",
      "\t\t\t\t\t\"pGradHist\": {\r\n",
      "\t\t\t\t\t\t\"enabled\": 1,\r\n",
      "\t\t\t\t\t\t\"binSize\": null,\r\n",
      "\t\t\t\t\t\t\"nOrients\": 6,\r\n",
      "\t\t\t\t\t\t\"softBin\": 0,\r\n",
      "\t\t\t\t\t\t\"useHog\": 0,\r\n",
      "\t\t\t\t\t\t\"clipHog\": 0.2\r\n",
      "\t\t\t\t\t},\r\n",
      "\t\t\t\t\t\"pCustom\": [],\r\n",
      "\t\t\t\t\t\"complete\": 1\r\n",
      "\t\t\t\t},\r\n",
      "\t\t\t\t\"nPerOct\": 8,\r\n",
      "\t\t\t\t\"nOctUp\": 0,\r\n",
      "\t\t\t\t\"nApprox\": 7,\r\n",
      "\t\t\t\t\"lambdas\": [-0,0.0011,0.0011],\r\n",
      "\t\t\t\t\"pad\": [4,4],\r\n",
      "\t\t\t\t\"minDs\": [19,19],\r\n",
      "\t\t\t\t\"smooth\": 1,\r\n",
      "\t\t\t\t\"concat\": 1,\r\n",
      "\t\t\t\t\"complete\": 1\r\n",
      "\t\t\t},\r\n",
      "\t\t\t\"filters\": null,\r\n",
      "\t\t\t\"modelDs\": [19,19],\r\n",
      "\t\t\t\"modelDsPad\": [20,20],\r\n",
      "\t\t\t\"pNms\": {\r\n",
      "\t\t\t\t\"type\": \"maxg\",\r\n",
      "\t\t\t\t\"overlap\": 0.65,\r\n",
      "\t\t\t\t\"ovrDnm\": \"min\"\r\n",
      "\t\t\t},\r\n",
      "\t\t\t\"stride\": 4,\r\n",
      "\t\t\t\"cascThr\": -1,\r\n",
      "\t\t\t\"cascCal\": 0.005,\r\n",
      "\t\t\t\"nWeak\": 1,\r\n",
      "\t\t\t\"pBoost\": {\r\n",
      "\t\t\t\t\"pTree\": {\r\n",
      "\t\t\t\t\t\"nBins\": 256,\r\n",
      "\t\t\t\t\t\"maxDepth\": 2,\r\n",
      "\t\t\t\t\t\"minWeight\": 0.01,\r\n",
      "\t\t\t\t\t\"fracFtrs\": 1,\r\n",
      "\t\t\t\t\t\"nThreads\": 16\r\n",
      "\t\t\t\t},\r\n",
      "\t\t\t\t\"nWeak\": 1,\r\n",
      "\t\t\t\t\"discrete\": 1,\r\n",
      "\t\t\t\t\"verbose\": 16\r\n",
      "\t\t\t},\r\n",
      "\t\t\t\"seed\": 0,\r\n",
      "\t\t\t\"name\": \"\",\r\n",
      "\t\t\t\"posGtDir\": \"\",\r\n",
      "\t\t\t\"posImgDir\": \"\",\r\n",
      "\t\t\t\"negImgDir\": \"\",\r\n",
      "\t\t\t\"posWinDir\": \"images\\/simple\\/posWinDir\",\r\n",
      "\t\t\t\"negWinDir\": \"images\\/simple\\/negWinDir\",\r\n",
      "\t\t\t\"imreadf\": {\r\n",
      "\t\t\t\t\"function\": \"imread\",\r\n",
      "\t\t\t\t\"type\": \"simple\",\r\n",
      "\t\t\t\t\"file\": \"\\/Applications\\/Octave-4.4.1.app\\/Contents\\/Resources\\/usr\\/Cellar\\/octave-octave-app_4.4.1_0\\/4.4.1\\/share\\/octave\\/4.4.1\\/m\\/image\\/imread.m\"\r\n",
      "\t\t\t},\r\n",
      "\t\t\t\"imreadp\": [],\r\n",
      "\t\t\t\"pLoad\": {\r\n",
      "\t\t\t\t\"squarify\": [\r\n",
      "\t\t\t\t\t0,\r\n",
      "\t\t\t\t\t1\r\n",
      "\t\t\t\t]\r\n",
      "\t\t\t},\r\n",
      "\t\t\t\"nPos\": \"_Inf_\",\r\n",
      "\t\t\t\"nNeg\": 5000,\r\n",
      "\t\t\t\"nPerNeg\": 25,\r\n",
      "\t\t\t\"nAccNeg\": 1000,\r\n",
      "\t\t\t\"pJitter\": [],\r\n",
      "\t\t\t\"winsSave\": 0\r\n",
      "\t\t},\r\n",
      "\t\t\"clf\": {\r\n",
      "\t\t\t\"fids\": [\r\n",
      "\t\t\t\t[20],\r\n",
      "\t\t\t\t[0],\r\n",
      "\t\t\t\t[0]\r\n",
      "\t\t\t],\r\n",
      "\t\t\t\"thrs\": [\r\n",
      "\t\t\t\t[0.3063881695],\r\n",
      "\t\t\t\t[0],\r\n",
      "\t\t\t\t[0]\r\n",
      "\t\t\t],\r\n",
      "\t\t\t\"child\": [\r\n",
      "\t\t\t\t[2],\r\n",
      "\t\t\t\t[0],\r\n",
      "\t\t\t\t[0]\r\n",
      "\t\t\t],\r\n",
      "\t\t\t\"hs\": [\r\n",
      "\t\t\t\t[-4.994999886],\r\n",
      "\t\t\t\t[5.005000114],\r\n",
      "\t\t\t\t[-4.994999886]\r\n",
      "\t\t\t],\r\n",
      "\t\t\t\"weights\": [\r\n",
      "\t\t\t\t[1],\r\n",
      "\t\t\t\t[0.5],\r\n",
      "\t\t\t\t[0.5]\r\n",
      "\t\t\t],\r\n",
      "\t\t\t\"depth\": [\r\n",
      "\t\t\t\t[0],\r\n",
      "\t\t\t\t[1],\r\n",
      "\t\t\t\t[1]\r\n",
      "\t\t\t],\r\n",
      "\t\t\t\"errs\": 0,\r\n",
      "\t\t\t\"losses\": 0.006737949327,\r\n",
      "\t\t\t\"treeDepth\": 1\r\n",
      "\t\t},\r\n",
      "\t\t\"info\": [\r\n",
      "\t\t\t{\r\n",
      "\t\t\t\t\"name\": \"color channels\",\r\n",
      "\t\t\t\t\"pChn\": {\r\n",
      "\t\t\t\t\t\"enabled\": 1,\r\n",
      "\t\t\t\t\t\"smooth\": 1,\r\n",
      "\t\t\t\t\t\"colorSpace\": \"luv\"\r\n",
      "\t\t\t\t},\r\n",
      "\t\t\t\t\"nChns\": 3,\r\n",
      "\t\t\t\t\"padWith\": \"replicate\"\r\n",
      "\t\t\t},\r\n",
      "\t\t\t{\r\n",
      "\t\t\t\t\"name\": \"gradient magnitude\",\r\n",
      "\t\t\t\t\"pChn\": {\r\n",
      "\t\t\t\t\t\"enabled\": 1,\r\n",
      "\t\t\t\t\t\"colorChn\": 0,\r\n",
      "\t\t\t\t\t\"normRad\": 5,\r\n",
      "\t\t\t\t\t\"normConst\": 0.005,\r\n",
      "\t\t\t\t\t\"full\": 0\r\n",
      "\t\t\t\t},\r\n",
      "\t\t\t\t\"nChns\": 1,\r\n",
      "\t\t\t\t\"padWith\": 0\r\n",
      "\t\t\t},\r\n",
      "\t\t\t{\r\n",
      "\t\t\t\t\"name\": \"gradient histogram\",\r\n",
      "\t\t\t\t\"pChn\": {\r\n",
      "\t\t\t\t\t\"enabled\": 1,\r\n",
      "\t\t\t\t\t\"binSize\": null,\r\n",
      "\t\t\t\t\t\"nOrients\": 6,\r\n",
      "\t\t\t\t\t\"softBin\": 0,\r\n",
      "\t\t\t\t\t\"useHog\": 0,\r\n",
      "\t\t\t\t\t\"clipHog\": 0.2\r\n",
      "\t\t\t\t},\r\n",
      "\t\t\t\t\"nChns\": 6,\r\n",
      "\t\t\t\t\"padWith\": 0\r\n",
      "\t\t\t}\r\n",
      "\t\t]\r\n",
      "\t}\r\n",
      "}\r\n",
      "\r\n"
     ]
    }
   ],
   "source": [
    "!cat {model_name}.json"
   ]
  },
  {
   "cell_type": "code",
   "execution_count": 0,
   "metadata": {},
   "outputs": [],
   "source": [
    "Path(\"octave-workspace\").remove_p()\n",
    "Path(\"Detector.mat\").remove_p()\n",
    "Path(\"Log.txt\").remove_p()"
   ]
  },
  {
   "cell_type": "code",
   "execution_count": 0,
   "metadata": {},
   "outputs": [],
   "source": [
    "# !ls {train_model_JSON}"
   ]
  },
  {
   "cell_type": "code",
   "execution_count": 0,
   "metadata": {},
   "outputs": [],
   "source": [
    "# !head -10 {train_model_JSON}/{model_name}.json"
   ]
  }
 ],
 "metadata": {
  "associatedRecipe": "compute_ZIrBZrE9",
  "creator": "admin",
  "customFields": {},
  "kernelspec": {
   "display_name": "Python 3",
   "language": "python",
   "name": "python3"
  },
  "language_info": {
   "codemirror_mode": {
    "name": "ipython",
    "version": 3
   },
   "file_extension": ".py",
   "mimetype": "text/x-python",
   "name": "python",
   "nbconvert_exporter": "python",
   "pygments_lexer": "ipython3",
   "version": "3.7.2"
  },
  "tags": [
   "recipe-editor"
  ],
  "toc": {
   "base_numbering": 1,
   "nav_menu": {},
   "number_sections": true,
   "sideBar": true,
   "skip_h1_title": true,
   "title_cell": "contents",
   "title_sidebar": "contents",
   "toc_cell": true,
   "toc_position": {},
   "toc_section_display": true,
   "toc_window_display": true
  }
 },
 "nbformat": 4,
 "nbformat_minor": 1
}
