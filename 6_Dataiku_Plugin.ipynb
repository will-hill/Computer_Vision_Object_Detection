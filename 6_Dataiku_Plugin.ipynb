{
 "cells": [
  {
   "cell_type": "markdown",
   "metadata": {
    "toc": true
   },
   "source": [
    "<h1>contents<span class=\"tocSkip\"></span></h1>\n",
    "<div class=\"toc\"><ul class=\"toc-item\"></ul></div>"
   ]
  },
  {
   "cell_type": "markdown",
   "metadata": {},
   "source": [
    "# Notebook for testing Dataiku plugin functionality"
   ]
  },
  {
   "cell_type": "code",
   "execution_count": 1,
   "metadata": {},
   "outputs": [],
   "source": [
    "import oct2py as op"
   ]
  },
  {
   "cell_type": "code",
   "execution_count": 2,
   "metadata": {},
   "outputs": [],
   "source": [
    "o = op.Oct2Py()"
   ]
  },
  {
   "cell_type": "code",
   "execution_count": 3,
   "metadata": {},
   "outputs": [],
   "source": [
    "!rm -rf Detector.mat\n",
    "!rm -rf Log.txt"
   ]
  },
  {
   "cell_type": "code",
   "execution_count": 8,
   "metadata": {},
   "outputs": [
    {
     "name": "stdout",
     "output_type": "stream",
     "text": [
      ">>> #########################\n",
      ">>> # Oct2Py demo\n",
      ">>> #########################\n",
      ">>> import numpy as np\n",
      ">>> from oct2py import Oct2Py\n",
      ">>> oc = Oct2Py()\n",
      ">>> # basic commands\n",
      ">>> print(oc.abs(-1))\n",
      "1\n",
      ">>> print(oc.upper('xyz'))\n",
      "XYZ\n",
      ">>> # plotting\n",
      ">>> oc.plot([1,2,3],'-o', linewidth=2)\n"
     ]
    },
    {
     "name": "stderr",
     "output_type": "stream",
     "text": [
      "/anaconda3/lib/python3.7/site-packages/oct2py/demo.py:1: UserWarning: Key - value pairs are deprecated, use `func_args`\n",
      "  # -*- coding: utf-8 -*-\n"
     ]
    },
    {
     "name": "stdout",
     "output_type": "stream",
     "text": [
      "Press Enter to continue...\n",
      ">>> oc.close()\n",
      ">>> xx = np.arange(-2*np.pi, 2*np.pi, 0.2)\n",
      ">>> oc.surf(np.subtract.outer(np.sin(xx), np.cos(xx)))\n",
      "Press Enter to continue...\n",
      ">>> oc.close()\n",
      ">>> # getting help\n",
      ">>> help(oc.svd)\n",
      "Help on svd in module oct2py.dynamic object:\n",
      "\n",
      "class svd(OctaveFunctionPtr)\n",
      " |  svd(session_weakref, name)\n",
      " |  \n",
      " |  'svd' is a built-in function from the file libinterp/corefcn/svd.cc\n",
      " |  \n",
      " |   -- S = svd (A)\n",
      " |   -- [U, S, V] = svd (A)\n",
      " |   -- [U, S, V] = svd (A, \"econ\")\n",
      " |   -- [U, S, V] = svd (A, 0)\n",
      " |       Compute the singular value decomposition of A.\n",
      " |  \n",
      " |       The singular value decomposition is defined by the relation\n",
      " |  \n",
      " |            A = U*S*V'\n",
      " |  \n",
      " |       The function 'svd' normally returns only the vector of singular\n",
      " |       values.  When called with three return values, it computes U, S,\n",
      " |       and V.  For example,\n",
      " |  \n",
      " |            svd (hilb (3))\n",
      " |  \n",
      " |       returns\n",
      " |  \n",
      " |            ans =\n",
      " |  \n",
      " |              1.4083189\n",
      " |              0.1223271\n",
      " |              0.0026873\n",
      " |  \n",
      " |       and\n",
      " |  \n",
      " |            [u, s, v] = svd (hilb (3))\n",
      " |  \n",
      " |       returns\n",
      " |  \n",
      " |            u =\n",
      " |  \n",
      " |              -0.82704   0.54745   0.12766\n",
      " |              -0.45986  -0.52829  -0.71375\n",
      " |              -0.32330  -0.64901   0.68867\n",
      " |  \n",
      " |            s =\n",
      " |  \n",
      " |              1.40832  0.00000  0.00000\n",
      " |              0.00000  0.12233  0.00000\n",
      " |              0.00000  0.00000  0.00269\n",
      " |  \n",
      " |            v =\n",
      " |  \n",
      " |              -0.82704   0.54745   0.12766\n",
      " |              -0.45986  -0.52829  -0.71375\n",
      " |              -0.32330  -0.64901   0.68867\n",
      " |  \n",
      " |       When given a second argument that is not 0, 'svd' returns an\n",
      " |       economy-sized decomposition, eliminating the unnecessary rows or\n",
      " |       columns of U or V.\n",
      " |  \n",
      " |       If the second argument is exactly 0, then the choice of\n",
      " |       decomposition is based on the matrix A.  If A has more rows than\n",
      " |       columns then an economy-sized decomposition is returned, otherwise\n",
      " |       a regular decomposition is calculated.\n",
      " |  \n",
      " |       Algorithm Notes: When calculating the full decomposition (left and\n",
      " |       right singular matrices in addition to singular values) there is a\n",
      " |       choice of two routines in LAPACK.  The default routine used by\n",
      " |       Octave is 'gesdd' which is 5X faster than the alternative 'gesvd',\n",
      " |       but may use more memory and may be less accurate for some matrices.\n",
      " |       See the documentation for 'svd_driver' for more information.\n",
      " |  \n",
      " |       See also: svd_driver, svds, eig, lu, chol, hess, qr, qz.\n",
      " |  \n",
      " |  Additional help for built-in functions and operators is\n",
      " |  available in the online version of the manual.  Use the command\n",
      " |  'doc <topic>' to search the manual index.\n",
      " |  \n",
      " |  Help and information about Octave is also available on the WWW\n",
      " |  at https://www.octave.org and via the help@octave.org\n",
      " |  mailing list.\n",
      " |  \n",
      " |  Parameters\n",
      " |  ----------\n",
      " |  func_args: object, optional\n",
      " |      Args to send to the function.\n",
      " |  nout: int, optional\n",
      " |      Desired number of return arguments, defaults to 1.\n",
      " |  store_as: str, optional\n",
      " |      If given, saves the result to the given Octave variable name\n",
      " |      instead of returning it.\n",
      " |  verbose : bool, optional\n",
      " |      Log Octave output at INFO level.  If False, log at DEBUG level.\n",
      " |  stream_handler: callable, optional\n",
      " |      A function that is called for each line of output from the\n",
      " |      evaluation.\n",
      " |  timeout: float, optional\n",
      " |      The timeout in seconds for the call.\n",
      " |  plot_dir: str, optional\n",
      " |      If specificed, save the session's plot figures to the plot\n",
      " |      directory instead of displaying the plot window.\n",
      " |  plot_name : str, optional\n",
      " |      Saved plots will start with `plot_name` and\n",
      " |      end with \"_%%.xxx' where %% is the plot number and\n",
      " |      xxx is the `plot_format`.\n",
      " |  plot_format: str, optional\n",
      " |      The format in which to save the plot.\n",
      " |  plot_width: int, optional\n",
      " |      The plot with in pixels.\n",
      " |  plot_height: int, optional\n",
      " |      The plot height in pixels.\n",
      " |  \n",
      " |  Notes\n",
      " |  -----\n",
      " |  The function arguments passed follow Octave calling convention, not \n",
      " |  Python. That is, all values must be passed as a comma separated list,\n",
      " |  not using `x=foo` assignment.  \n",
      " |  \n",
      " |  Examples\n",
      " |  --------\n",
      " |  >>> from oct2py import octave\n",
      " |  >>> cell = octave.feval('cell', 10, 10, 10)\n",
      " |  >>> cell.shape\n",
      " |  (10, 10, 10)\n",
      " |  \n",
      " |  >>> from oct2py import octave\n",
      " |  >>> x = octave.feval('linspace', 0, octave.pi() / 2)\n",
      " |  >>> x.shape\n",
      " |  (1, 100)\n",
      " |  \n",
      " |  >>> from oct2py import octave\n",
      " |  >>> x = octave.feval('svd', octave.hilb(3))\n",
      " |  >>> x\n",
      " |  array([[ 1.40831893],\n",
      " |         [ 0.12232707],\n",
      " |         [ 0.00268734]])\n",
      " |  >>> # specify three return values\n",
      " |  >>> (u, v, d) = octave.feval('svd', octave.hilb(3), nout=3)\n",
      " |  >>> u.shape\n",
      " |  (3, 3)\n",
      " |  \n",
      " |  Returns\n",
      " |  -------\n",
      " |  The Python value(s) returned by the Octave function call.\n",
      " |  \n",
      " |  **kwargs - Deprecated keyword arguments\n",
      " |  \n",
      " |  Notes\n",
      " |  -----\n",
      " |  Keyword arguments to dynamic functions are deprecated.\n",
      " |  The `plot_*` kwargs will be ignored, but the rest will\n",
      " |  used as key - value pairs as in version 3.x.\n",
      " |  Use `set_plot_settings()` for plot settings, and use\n",
      " |  `func_args` directly for key - value pairs.\n",
      " |  \n",
      " |  Method resolution order:\n",
      " |      svd\n",
      " |      OctaveFunctionPtr\n",
      " |      OctavePtr\n",
      " |      builtins.object\n",
      " |  \n",
      " |  Methods inherited from OctaveFunctionPtr:\n",
      " |  \n",
      " |  __call__(self, *inputs, **kwargs)\n",
      " |      Call self as a function.\n",
      " |  \n",
      " |  __init__(self, session_weakref, name)\n",
      " |      Initialize self.  See help(type(self)) for accurate signature.\n",
      " |  \n",
      " |  __repr__(self)\n",
      " |      Return repr(self).\n",
      " |  \n",
      " |  ----------------------------------------------------------------------\n",
      " |  Data descriptors inherited from OctavePtr:\n",
      " |  \n",
      " |  __dict__\n",
      " |      dictionary for instance variables (if defined)\n",
      " |  \n",
      " |  __weakref__\n",
      " |      list of weak references to the object (if defined)\n",
      " |  \n",
      " |  address\n",
      " |  \n",
      " |  name\n",
      "\n",
      ">>> # single vs. multiple return values\n",
      ">>> print(oc.svd(np.array([[1,2], [1,3]])))\n",
      "[[3.86432845]\n",
      " [0.25877718]]\n",
      ">>> U, S, V = oc.svd([[1,2], [1,3]], nout=3)\n",
      ">>> print(U, S, V)\n",
      "[[-0.57604844 -0.81741556]\n",
      " [-0.81741556  0.57604844]] [[3.86432845 0.        ]\n",
      " [0.         0.25877718]] [[-0.36059668 -0.93272184]\n",
      " [-0.93272184  0.36059668]]\n",
      ">>> # low level constructs\n",
      ">>> oc.eval(\"y=ones(3,3)\")\n",
      "y =\n",
      "\n",
      "   1   1   1\n",
      "   1   1   1\n",
      "   1   1   1\n",
      "\n",
      ">>> print(oc.pull(\"y\"))\n",
      "[[1. 1. 1.]\n",
      " [1. 1. 1.]\n",
      " [1. 1. 1.]]\n",
      ">>> oc.eval(\"x=zeros(3,3)\", verbose=True)\n",
      "x =\n",
      "\n",
      "   0   0   0\n",
      "   0   0   0\n",
      "   0   0   0\n",
      "\n",
      ">>> t = oc.eval('rand(1, 2)', verbose=True)\n",
      "ans =\n",
      "\n",
      "   0.48589   0.46847\n",
      "\n",
      ">>> y = np.zeros((3,3))\n",
      ">>> oc.push('y', y)\n",
      ">>> print(oc.pull('y'))\n",
      "[[0. 0. 0.]\n",
      " [0. 0. 0.]\n",
      " [0. 0. 0.]]\n",
      ">>> from oct2py import Struct\n",
      ">>> y = Struct()\n",
      ">>> y.b = 'spam'\n",
      ">>> y.c.d = 'eggs'\n",
      ">>> print(y.c['d'])\n",
      "eggs\n",
      ">>> print(y)\n",
      "{'b': 'spam', 'c': {'d': 'eggs'}}\n",
      ">>> #########################\n",
      ">>> # Demo Complete!\n",
      ">>> #########################\n"
     ]
    }
   ],
   "source": [
    "op.demo()"
   ]
  },
  {
   "cell_type": "code",
   "execution_count": 4,
   "metadata": {},
   "outputs": [],
   "source": [
    "o.eval('clc')\n",
    "o.eval('clear')\n",
    "o.eval('addpath(genpath(\"octave\"))')"
   ]
  },
  {
   "cell_type": "code",
   "execution_count": 5,
   "metadata": {},
   "outputs": [
    {
     "name": "stdout",
     "output_type": "stream",
     "text": [
      "ans =\n",
      "\n",
      "   0.55027   0.71317\n",
      "\n"
     ]
    }
   ],
   "source": [
    " t = o.eval('rand(1, 2)', verbose=True)"
   ]
  },
  {
   "cell_type": "code",
   "execution_count": 7,
   "metadata": {},
   "outputs": [],
   "source": [
    "o.eval('foo = [1, 2];')"
   ]
  },
  {
   "cell_type": "code",
   "execution_count": 8,
   "metadata": {},
   "outputs": [],
   "source": [
    "ptr = o.get_pointer('foo')"
   ]
  },
  {
   "cell_type": "code",
   "execution_count": 9,
   "metadata": {},
   "outputs": [
    {
     "data": {
      "text/plain": [
       "array([[1., 2.]])"
      ]
     },
     "execution_count": 9,
     "metadata": {},
     "output_type": "execute_result"
    }
   ],
   "source": [
    "ptr.value"
   ]
  },
  {
   "cell_type": "code",
   "execution_count": 33,
   "metadata": {},
   "outputs": [
    {
     "name": "stdout",
     "output_type": "stream",
     "text": [
      "opts =\n",
      "\n",
      "  scalar structure containing the fields:\n",
      "\n",
      "    pPyramid =\n",
      "\n",
      "      scalar structure containing the fields:\n",
      "\n",
      "        pChns =\n",
      "\n",
      "          scalar structure containing the fields:\n",
      "\n",
      "            shrink: 1x1 scalar\n",
      "            pColor: 1x1 scalar struct\n",
      "            pGradMag: 1x1 scalar struct\n",
      "            pGradHist: 1x1 scalar struct\n",
      "            pCustom: 0x0 struct\n",
      "            complete: 1x1 scalar\n",
      "\n",
      "        nPerOct =  8\n",
      "        nOctUp = 0\n",
      "        nApprox =  7\n",
      "        lambdas = [](0x0)\n",
      "        pad =\n",
      "\n",
      "           16   12\n",
      "\n",
      "        minDs =\n",
      "\n",
      "           100    41\n",
      "\n",
      "        smooth =  1\n",
      "        concat =  1\n",
      "        complete =  1\n",
      "\n",
      "    filters = [](0x0)\n",
      "    modelDs =\n",
      "\n",
      "       100    41\n",
      "\n",
      "    modelDsPad =\n",
      "\n",
      "       128    64\n",
      "\n",
      "    pNms =\n",
      "\n",
      "      scalar structure containing the fields:\n",
      "\n",
      "        type = maxg\n",
      "        overlap =  0.65000\n",
      "        ovrDnm = min\n",
      "\n",
      "    stride =  4\n",
      "    cascThr = -1\n",
      "    cascCal =  0.0050000\n",
      "    nWeak =  128\n",
      "    pBoost =\n",
      "\n",
      "      scalar structure containing the fields:\n",
      "\n",
      "        pTree =\n",
      "\n",
      "          scalar structure containing the fields:\n",
      "\n",
      "            nBins: 1x1 scalar\n",
      "            maxDepth: 1x1 scalar\n",
      "            minWeight: 1x1 scalar\n",
      "            fracFtrs: 1x1 scalar\n",
      "            nThreads: 1x1 scalar\n",
      "\n",
      "        nWeak = 0\n",
      "        discrete =  1\n",
      "        verbose =  16\n",
      "\n",
      "    seed = 0\n",
      "    name = \n",
      "    posGtDir = \n",
      "    posImgDir = \n",
      "    negImgDir = \n",
      "    posWinDir = \n",
      "    negWinDir = \n",
      "    imreadf = @imread\n",
      "    imreadp = {}(0x0)\n",
      "    pLoad =\n",
      "\n",
      "      scalar structure containing the fields:\n",
      "\n",
      "        squarify =\n",
      "        {\n",
      "          [1,1] = 0\n",
      "          [1,2] =  1\n",
      "        }\n",
      "\n",
      "\n",
      "    nPos =  Inf\n",
      "    nNeg =  5000\n",
      "    nPerNeg =  25\n",
      "    nAccNeg =  10000\n",
      "    pJitter = {}(0x0)\n",
      "    winsSave = 0\n",
      "\n"
     ]
    }
   ],
   "source": [
    "o.eval('opts=acfTrain()', verbose=True)"
   ]
  },
  {
   "cell_type": "code",
   "execution_count": 34,
   "metadata": {},
   "outputs": [
    {
     "name": "stdout",
     "output_type": "stream",
     "text": [
      "warning: save: wrong type argument 'function handle'\n"
     ]
    },
    {
     "ename": "Oct2PyError",
     "evalue": "Octave evaluation error:\nerror: save: error while writing '' to MAT file",
     "output_type": "error",
     "traceback": [
      "\u001b[0;31m---------------------------------------------------------------------------\u001b[0m",
      "\u001b[0;31mOct2PyError\u001b[0m                               Traceback (most recent call last)",
      "\u001b[0;32m<ipython-input-34-738a9f63290b>\u001b[0m in \u001b[0;36m<module>\u001b[0;34m\u001b[0m\n\u001b[0;32m----> 1\u001b[0;31m \u001b[0mo\u001b[0m\u001b[0;34m.\u001b[0m\u001b[0mpull\u001b[0m\u001b[0;34m(\u001b[0m\u001b[0;34m'opts'\u001b[0m\u001b[0;34m)\u001b[0m\u001b[0;34m\u001b[0m\u001b[0;34m\u001b[0m\u001b[0m\n\u001b[0m",
      "\u001b[0;32m/anaconda3/lib/python3.7/site-packages/oct2py/core.py\u001b[0m in \u001b[0;36mpull\u001b[0;34m(self, var, timeout, verbose)\u001b[0m\n\u001b[1;32m    181\u001b[0m             \u001b[0;32mif\u001b[0m \u001b[0mexist\u001b[0m \u001b[0;34m==\u001b[0m \u001b[0;36m1\u001b[0m\u001b[0;34m:\u001b[0m\u001b[0;34m\u001b[0m\u001b[0;34m\u001b[0m\u001b[0m\n\u001b[1;32m    182\u001b[0m                 outputs.append(self.feval('evalin', 'base', name,\n\u001b[0;32m--> 183\u001b[0;31m                                           timeout=timeout, verbose=verbose))\n\u001b[0m\u001b[1;32m    184\u001b[0m             \u001b[0;32melse\u001b[0m\u001b[0;34m:\u001b[0m\u001b[0;34m\u001b[0m\u001b[0;34m\u001b[0m\u001b[0m\n\u001b[1;32m    185\u001b[0m                 \u001b[0moutputs\u001b[0m\u001b[0;34m.\u001b[0m\u001b[0mappend\u001b[0m\u001b[0;34m(\u001b[0m\u001b[0mself\u001b[0m\u001b[0;34m.\u001b[0m\u001b[0mget_pointer\u001b[0m\u001b[0;34m(\u001b[0m\u001b[0mname\u001b[0m\u001b[0;34m,\u001b[0m \u001b[0mtimeout\u001b[0m\u001b[0;34m=\u001b[0m\u001b[0mtimeout\u001b[0m\u001b[0;34m)\u001b[0m\u001b[0;34m)\u001b[0m\u001b[0;34m\u001b[0m\u001b[0;34m\u001b[0m\u001b[0m\n",
      "\u001b[0;32m/anaconda3/lib/python3.7/site-packages/oct2py/core.py\u001b[0m in \u001b[0;36mfeval\u001b[0;34m(self, func_path, *func_args, **kwargs)\u001b[0m\n\u001b[1;32m    367\u001b[0m         return self._feval(func_name, func_args, dname=dname, nout=nout,\n\u001b[1;32m    368\u001b[0m                           \u001b[0mtimeout\u001b[0m\u001b[0;34m=\u001b[0m\u001b[0mtimeout\u001b[0m\u001b[0;34m,\u001b[0m \u001b[0mstream_handler\u001b[0m\u001b[0;34m=\u001b[0m\u001b[0mstream_handler\u001b[0m\u001b[0;34m,\u001b[0m\u001b[0;34m\u001b[0m\u001b[0;34m\u001b[0m\u001b[0m\n\u001b[0;32m--> 369\u001b[0;31m                           store_as=store_as, plot_dir=plot_dir)\n\u001b[0m\u001b[1;32m    370\u001b[0m \u001b[0;34m\u001b[0m\u001b[0m\n\u001b[1;32m    371\u001b[0m     def eval(self, cmds, verbose=True, timeout=None, stream_handler=None,\n",
      "\u001b[0;32m/anaconda3/lib/python3.7/site-packages/oct2py/core.py\u001b[0m in \u001b[0;36m_feval\u001b[0;34m(self, func_name, func_args, dname, nout, timeout, stream_handler, store_as, plot_dir)\u001b[0m\n\u001b[1;32m    566\u001b[0m         \u001b[0;32mif\u001b[0m \u001b[0mresp\u001b[0m\u001b[0;34m[\u001b[0m\u001b[0;34m'err'\u001b[0m\u001b[0;34m]\u001b[0m\u001b[0;34m:\u001b[0m\u001b[0;34m\u001b[0m\u001b[0;34m\u001b[0m\u001b[0m\n\u001b[1;32m    567\u001b[0m             \u001b[0mmsg\u001b[0m \u001b[0;34m=\u001b[0m \u001b[0mself\u001b[0m\u001b[0;34m.\u001b[0m\u001b[0m_parse_error\u001b[0m\u001b[0;34m(\u001b[0m\u001b[0mresp\u001b[0m\u001b[0;34m[\u001b[0m\u001b[0;34m'err'\u001b[0m\u001b[0;34m]\u001b[0m\u001b[0;34m)\u001b[0m\u001b[0;34m\u001b[0m\u001b[0;34m\u001b[0m\u001b[0m\n\u001b[0;32m--> 568\u001b[0;31m             \u001b[0;32mraise\u001b[0m \u001b[0mOct2PyError\u001b[0m\u001b[0;34m(\u001b[0m\u001b[0mmsg\u001b[0m\u001b[0;34m)\u001b[0m\u001b[0;34m\u001b[0m\u001b[0;34m\u001b[0m\u001b[0m\n\u001b[0m\u001b[1;32m    569\u001b[0m \u001b[0;34m\u001b[0m\u001b[0m\n\u001b[1;32m    570\u001b[0m         \u001b[0mresult\u001b[0m \u001b[0;34m=\u001b[0m \u001b[0mresp\u001b[0m\u001b[0;34m[\u001b[0m\u001b[0;34m'result'\u001b[0m\u001b[0;34m]\u001b[0m\u001b[0;34m.\u001b[0m\u001b[0mravel\u001b[0m\u001b[0;34m(\u001b[0m\u001b[0;34m)\u001b[0m\u001b[0;34m.\u001b[0m\u001b[0mtolist\u001b[0m\u001b[0;34m(\u001b[0m\u001b[0;34m)\u001b[0m\u001b[0;34m\u001b[0m\u001b[0;34m\u001b[0m\u001b[0m\n",
      "\u001b[0;31mOct2PyError\u001b[0m: Octave evaluation error:\nerror: save: error while writing '' to MAT file"
     ]
    }
   ],
   "source": [
    "o.pull('opts')"
   ]
  },
  {
   "cell_type": "code",
   "execution_count": 30,
   "metadata": {},
   "outputs": [
    {
     "ename": "NameError",
     "evalue": "name 'opts' is not defined",
     "output_type": "error",
     "traceback": [
      "\u001b[0;31m---------------------------------------------------------------------------\u001b[0m",
      "\u001b[0;31mNameError\u001b[0m                                 Traceback (most recent call last)",
      "\u001b[0;32m<ipython-input-30-29d3c07f1115>\u001b[0m in \u001b[0;36m<module>\u001b[0;34m\u001b[0m\n\u001b[0;32m----> 1\u001b[0;31m \u001b[0mopts\u001b[0m\u001b[0;34m\u001b[0m\u001b[0;34m\u001b[0m\u001b[0m\n\u001b[0m",
      "\u001b[0;31mNameError\u001b[0m: name 'opts' is not defined"
     ]
    }
   ],
   "source": [
    "opts"
   ]
  },
  {
   "cell_type": "markdown",
   "metadata": {},
   "source": []
  },
  {
   "cell_type": "markdown",
   "metadata": {},
   "source": []
  },
  {
   "cell_type": "markdown",
   "metadata": {},
   "source": []
  },
  {
   "cell_type": "markdown",
   "metadata": {},
   "source": []
  },
  {
   "cell_type": "markdown",
   "metadata": {},
   "source": []
  },
  {
   "cell_type": "markdown",
   "metadata": {},
   "source": []
  },
  {
   "cell_type": "markdown",
   "metadata": {},
   "source": []
  },
  {
   "cell_type": "markdown",
   "metadata": {},
   "source": []
  }
 ],
 "metadata": {
  "kernelspec": {
   "display_name": "Python 3",
   "language": "python",
   "name": "python3"
  },
  "language_info": {
   "codemirror_mode": {
    "name": "ipython",
    "version": 3
   },
   "file_extension": ".py",
   "mimetype": "text/x-python",
   "name": "python",
   "nbconvert_exporter": "python",
   "pygments_lexer": "ipython3",
   "version": "3.7.2"
  },
  "toc": {
   "base_numbering": 1,
   "nav_menu": {},
   "number_sections": true,
   "sideBar": true,
   "skip_h1_title": true,
   "title_cell": "contents",
   "title_sidebar": "contents",
   "toc_cell": true,
   "toc_position": {},
   "toc_section_display": true,
   "toc_window_display": true
  }
 },
 "nbformat": 4,
 "nbformat_minor": 2
}
