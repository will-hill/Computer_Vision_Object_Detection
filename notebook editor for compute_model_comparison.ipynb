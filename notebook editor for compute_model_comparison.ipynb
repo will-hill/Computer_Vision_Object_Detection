{
 "cells": [
  {
   "cell_type": "markdown",
   "metadata": {
    "toc": true
   },
   "source": [
    "<h1>contents<span class=\"tocSkip\"></span></h1>\n",
    "<div class=\"toc\"><ul class=\"toc-item\"></ul></div>"
   ]
  },
  {
   "cell_type": "code",
   "execution_count": 36,
   "metadata": {},
   "outputs": [
    {
     "name": "stderr",
     "output_type": "stream",
     "text": [
      "`mutate_each()` is deprecated.\n",
      "Use `mutate_all()`, `mutate_at()` or `mutate_if()` instead.\n",
      "To map `funs` over all variables, use `mutate_all()`\n"
     ]
    }
   ],
   "source": [
    "library(dataiku)\n",
    "library(forecast)\n",
    "library(dplyr)\n",
    "\n",
    "# Recipe inputs\n",
    "exchange_scored_dl_ts <- dkuReadDataset(\"exchange_scored_dl_ts\")"
   ]
  },
  {
   "cell_type": "code",
   "execution_count": 37,
   "metadata": {},
   "outputs": [],
   "source": [
    "targetTs <- ts(exchange_scored_dl_ts[\"target\"])\n",
    "deeplearningTs <- ts(exchange_scored_dl_ts[\"prediction_deeplearning\"])\n",
    "forecastTs <- ts(exchange_scored_dl_ts[\"prediction_timeseries\"])\n",
    "deeplearningEval <- as.data.frame(forecast::accuracy(deeplearningTs, targetTs))\n",
    "deeplearningEval[[\"model\"]] <- \"LSTM (Keras doctor)\"\n",
    "forecastEval <- as.data.frame(forecast::accuracy(forecastTs, targetTs))\n",
    "forecastEval[[\"model\"]] <- \"Auto-Regressive Neural Network (Forecast plugin)\""
   ]
  },
  {
   "cell_type": "code",
   "execution_count": 38,
   "metadata": {},
   "outputs": [],
   "source": [
    "evalDf <- rbind(deeplearningEval, forecastEval) %>%\n",
    "  select(model, RMSE, MAE, MAPE, ACF1)"
   ]
  },
  {
   "cell_type": "code",
   "execution_count": 39,
   "metadata": {},
   "outputs": [
    {
     "data": {
      "text/html": [
       "<table>\n",
       "<thead><tr><th></th><th scope=col>model</th><th scope=col>RMSE</th><th scope=col>MAE</th><th scope=col>MAPE</th><th scope=col>ACF1</th></tr></thead>\n",
       "<tbody>\n",
       "\t<tr><th scope=row>Test set</th><td>LSTM (Keras doctor)                             </td><td>0.03676962                                      </td><td>0.02788877                                      </td><td>2.3827022                                       </td><td>-0.5952473                                      </td></tr>\n",
       "\t<tr><th scope=row>Test set1</th><td>Auto-Regressive Neural Network (Forecast plugin)</td><td>0.00768868                                      </td><td>0.00655948                                      </td><td>0.5677302                                       </td><td> 0.2182304                                      </td></tr>\n",
       "</tbody>\n",
       "</table>\n"
      ],
      "text/latex": [
       "\\begin{tabular}{r|lllll}\n",
       "  & model & RMSE & MAE & MAPE & ACF1\\\\\n",
       "\\hline\n",
       "\tTest set & LSTM (Keras doctor)                              & 0.03676962                                       & 0.02788877                                       & 2.3827022                                        & -0.5952473                                      \\\\\n",
       "\tTest set1 & Auto-Regressive Neural Network (Forecast plugin) & 0.00768868                                       & 0.00655948                                       & 0.5677302                                        &  0.2182304                                      \\\\\n",
       "\\end{tabular}\n"
      ],
      "text/markdown": [
       "\n",
       "| <!--/--> | model | RMSE | MAE | MAPE | ACF1 | \n",
       "|---|---|\n",
       "| Test set | LSTM (Keras doctor)                              | 0.03676962                                       | 0.02788877                                       | 2.3827022                                        | -0.5952473                                       | \n",
       "| Test set1 | Auto-Regressive Neural Network (Forecast plugin) | 0.00768868                                       | 0.00655948                                       | 0.5677302                                        |  0.2182304                                       | \n",
       "\n",
       "\n"
      ],
      "text/plain": [
       "          model                                            RMSE      \n",
       "Test set  LSTM (Keras doctor)                              0.03676962\n",
       "Test set1 Auto-Regressive Neural Network (Forecast plugin) 0.00768868\n",
       "          MAE        MAPE      ACF1      \n",
       "Test set  0.02788877 2.3827022 -0.5952473\n",
       "Test set1 0.00655948 0.5677302  0.2182304"
      ]
     },
     "metadata": {},
     "output_type": "display_data"
    }
   ],
   "source": [
    "evalDf"
   ]
  },
  {
   "cell_type": "code",
   "execution_count": 35,
   "metadata": {},
   "outputs": [
    {
     "name": "stderr",
     "output_type": "stream",
     "text": [
      "Warning message in file.create(tmpFilePath):\n",
      "“cannot create file '/home/dataiku/dss/tmp//r-data-29eb4f248f32', reason 'Permission denied'”Warning message in file(tmpFilePath, \"wb\"):\n",
      "“cannot open file '/home/dataiku/dss/tmp//r-data-29eb4f248f32': Permission denied”"
     ]
    },
    {
     "ename": "ERROR",
     "evalue": "Error in file(tmpFilePath, \"wb\"): cannot open the connection\n",
     "output_type": "error",
     "traceback": [
      "Error in file(tmpFilePath, \"wb\"): cannot open the connection\nTraceback:\n",
      "1. dkuWriteDataset(evalDf, \"model_comparison\")",
      "2. file(tmpFilePath, \"wb\")"
     ]
    }
   ],
   "source": [
    "\n",
    "# Recipe outputs\n",
    "dkuWriteDataset(evalDf,\"model_comparison\")"
   ]
  }
 ],
 "metadata": {
  "associatedRecipe": "compute_model_comparison",
  "creator": "acombessie",
  "kernelspec": {
   "display_name": "Python 3",
   "language": "python",
   "name": "python3"
  },
  "language_info": {
   "codemirror_mode": {
    "name": "ipython",
    "version": 3
   },
   "file_extension": ".py",
   "mimetype": "text/x-python",
   "name": "python",
   "nbconvert_exporter": "python",
   "pygments_lexer": "ipython3",
   "version": "3.7.2"
  },
  "tags": [
   "recipe-editor"
  ],
  "toc": {
   "base_numbering": 1,
   "nav_menu": {},
   "number_sections": true,
   "sideBar": true,
   "skip_h1_title": true,
   "title_cell": "contents",
   "title_sidebar": "contents",
   "toc_cell": true,
   "toc_position": {},
   "toc_section_display": true,
   "toc_window_display": true
  }
 },
 "nbformat": 4,
 "nbformat_minor": 1
}
