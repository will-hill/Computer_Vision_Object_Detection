{
 "cells": [
  {
   "cell_type": "markdown",
   "metadata": {
    "toc": true
   },
   "source": [
    "<h1>contents<span class=\"tocSkip\"></span></h1>\n",
    "<div class=\"toc\"><ul class=\"toc-item\"><li><span><a href=\"#Gather-Training-Data\" data-toc-modified-id=\"Gather-Training-Data-1\"><span class=\"toc-item-num\">1&nbsp;&nbsp;</span>Gather Training Data</a></span><ul class=\"toc-item\"><li><span><a href=\"#positive-examples\" data-toc-modified-id=\"positive-examples-1.1\"><span class=\"toc-item-num\">1.1&nbsp;&nbsp;</span>positive examples</a></span></li><li><span><a href=\"#negative-examples\" data-toc-modified-id=\"negative-examples-1.2\"><span class=\"toc-item-num\">1.2&nbsp;&nbsp;</span>negative examples</a></span></li></ul></li><li><span><a href=\"#Build-Model-w/-Default-Options\" data-toc-modified-id=\"Build-Model-w/-Default-Options-2\"><span class=\"toc-item-num\">2&nbsp;&nbsp;</span>Build Model w/ Default Options</a></span><ul class=\"toc-item\"><li><span><a href=\"#image-metadata\" data-toc-modified-id=\"image-metadata-2.1\"><span class=\"toc-item-num\">2.1&nbsp;&nbsp;</span>image metadata</a></span></li><li><span><a href=\"#induce-algorithm\" data-toc-modified-id=\"induce-algorithm-2.2\"><span class=\"toc-item-num\">2.2&nbsp;&nbsp;</span>induce algorithm</a></span></li></ul></li><li><span><a href=\"#Test-Model\" data-toc-modified-id=\"Test-Model-3\"><span class=\"toc-item-num\">3&nbsp;&nbsp;</span>Test Model</a></span><ul class=\"toc-item\"><li><span><a href=\"#test-image\" data-toc-modified-id=\"test-image-3.1\"><span class=\"toc-item-num\">3.1&nbsp;&nbsp;</span>test image</a></span></li><li><span><a href=\"#run-the-model\" data-toc-modified-id=\"run-the-model-3.2\"><span class=\"toc-item-num\">3.2&nbsp;&nbsp;</span>run the model</a></span></li><li><span><a href=\"#results\" data-toc-modified-id=\"results-3.3\"><span class=\"toc-item-num\">3.3&nbsp;&nbsp;</span>results</a></span></li><li><span><a href=\"#visualize-results\" data-toc-modified-id=\"visualize-results-3.4\"><span class=\"toc-item-num\">3.4&nbsp;&nbsp;</span>visualize results</a></span></li></ul></li></ul></div>"
   ]
  },
  {
   "cell_type": "markdown",
   "metadata": {},
   "source": [
    "# Train A Simple Model"
   ]
  },
  {
   "cell_type": "markdown",
   "metadata": {},
   "source": [
    "We will train the simplest model with all default options.  \n",
    "This will work out any kinks left and prove setup is complete."
   ]
  },
  {
   "cell_type": "markdown",
   "metadata": {},
   "source": [
    "## Gather Training Data"
   ]
  },
  {
   "cell_type": "markdown",
   "metadata": {},
   "source": [
    "### positive examples"
   ]
  },
  {
   "cell_type": "code",
   "execution_count": 1,
   "metadata": {},
   "outputs": [
    {
     "name": "stdout",
     "output_type": "stream",
     "text": [
      "area.01.png\tcubic.01.png\tlanczos4.01.png\tlinear.01.png\tnearest.01.png\n",
      "area.02.png\tcubic.02.png\tlanczos4.02.png\tlinear.02.png\tnearest.02.png\n",
      "area.03.png\tcubic.03.png\tlanczos4.03.png\tlinear.03.png\tnearest.03.png\n",
      "area.04.png\tcubic.04.png\tlanczos4.04.png\tlinear.04.png\tnearest.04.png\n",
      "area.05.png\tcubic.05.png\tlanczos4.05.png\tlinear.05.png\tnearest.05.png\n",
      "area.06.png\tcubic.06.png\tlanczos4.06.png\tlinear.06.png\tnearest.06.png\n",
      "area.07.png\tcubic.07.png\tlanczos4.07.png\tlinear.07.png\tnearest.07.png\n",
      "area.08.png\tcubic.08.png\tlanczos4.08.png\tlinear.08.png\tnearest.08.png\n",
      "area.09.png\tcubic.09.png\tlanczos4.09.png\tlinear.09.png\tnearest.09.png\n",
      "area.10.png\tcubic.10.png\tlanczos4.10.png\tlinear.10.png\tnearest.10.png\n",
      "area.11.png\tcubic.11.png\tlanczos4.11.png\tlinear.11.png\tnearest.11.png\n",
      "area.12.png\tcubic.12.png\tlanczos4.12.png\tlinear.12.png\tnearest.12.png\n",
      "area.13.png\tcubic.13.png\tlanczos4.13.png\tlinear.13.png\tnearest.13.png\n",
      "area.14.png\tcubic.14.png\tlanczos4.14.png\tlinear.14.png\tnearest.14.png\n",
      "area.15.png\tcubic.15.png\tlanczos4.15.png\tlinear.15.png\tnearest.15.png\n",
      "area.16.png\tcubic.16.png\tlanczos4.16.png\tlinear.16.png\tnearest.16.png\n",
      "area.17.png\tcubic.17.png\tlanczos4.17.png\tlinear.17.png\tnearest.17.png\n",
      "area.18.png\tcubic.18.png\tlanczos4.18.png\tlinear.18.png\tnearest.18.png\n"
     ]
    }
   ],
   "source": [
    "!ls images/simple/posWinDir/"
   ]
  },
  {
   "cell_type": "markdown",
   "metadata": {},
   "source": [
    "### negative examples"
   ]
  },
  {
   "cell_type": "code",
   "execution_count": 2,
   "metadata": {},
   "outputs": [
    {
     "name": "stdout",
     "output_type": "stream",
     "text": [
      "area.GSD.png\t\tlanczos4.GSD.png\tnearest.GSD.png\n",
      "cubic.GSD.png\t\tlinear.GSD.png\n"
     ]
    }
   ],
   "source": [
    "!ls images/simple/negWinDir/"
   ]
  },
  {
   "cell_type": "markdown",
   "metadata": {},
   "source": [
    "## Build Model w/ Default Options"
   ]
  },
  {
   "cell_type": "markdown",
   "metadata": {},
   "source": [
    "SWITCH TO OCTAVE NOTEBOOK KERNEL"
   ]
  },
  {
   "cell_type": "code",
   "execution_count": 3,
   "metadata": {},
   "outputs": [],
   "source": [
    "!rm -rf Detector.mat\n",
    "!rm -rf Log.txt\n",
    "clc;\n",
    "clear;\n",
    "addpath(genpath('octave'));"
   ]
  },
  {
   "cell_type": "markdown",
   "metadata": {},
   "source": [
    "get training image height and width - needs to be consistent"
   ]
  },
  {
   "cell_type": "markdown",
   "metadata": {},
   "source": [
    "### image metadata"
   ]
  },
  {
   "cell_type": "code",
   "execution_count": 4,
   "metadata": {},
   "outputs": [
    {
     "name": "stdout",
     "output_type": "stream",
     "text": [
      "/Users/Bhill/git/Computer_Vision_Object_Detection/images/simple/posWinDir/area.01.png\n",
      "  pixelHeight: 20\n",
      "  pixelWidth: 20\n"
     ]
    }
   ],
   "source": [
    "!sips -g pixelHeight -g pixelWidth images/simple/posWinDir/area.01.png"
   ]
  },
  {
   "cell_type": "markdown",
   "metadata": {},
   "source": [
    "### induce algorithm"
   ]
  },
  {
   "cell_type": "code",
   "execution_count": 5,
   "metadata": {},
   "outputs": [
    {
     "name": "stdout",
     "output_type": "stream",
     "text": [
      "---------------------------------------------------------------------------\n",
      "Training stage 0\n",
      "Done sampling windows (time=1s).\n",
      "Computing lambdas... done (time=0s).\n",
      "Extracting features... done (time=0s).\n",
      "Done sampling windows (time=0s).\n",
      "Extracting features... done (time=0s).\n",
      "Training AdaBoost: nWeak=128 nFtrs=250 pos=88 neg=3\n",
      "warning: division by zero\n",
      "warning: called from\n",
      "    binaryTreeTrain at line 114 column 8\n",
      "    adaBoostTrain at line 79 column 17\n",
      "    acfTrain at line 200 column 16\n",
      "warning: division by zero\n",
      "warning: called from\n",
      "    adaBoostTrain at line 84 column 31\n",
      "    acfTrain at line 200 column 16\n",
      "warning: division by zero\n",
      "warning: called from\n",
      "    binaryTreeTrain at line 114 column 8\n",
      "    adaBoostTrain at line 79 column 17\n",
      "    acfTrain at line 200 column 16\n",
      "warning: division by zero\n",
      "warning: called from\n",
      "    adaBoostTrain at line 84 column 31\n",
      "    acfTrain at line 200 column 16\n",
      "warning: division by zero\n",
      "warning: called from\n",
      "    binaryTreeTrain at line 114 column 8\n",
      "    adaBoostTrain at line 79 column 17\n",
      "    acfTrain at line 200 column 16\n",
      "warning: division by zero\n",
      "warning: called from\n",
      "    adaBoostTrain at line 84 column 31\n",
      "    acfTrain at line 200 column 16\n",
      "warning: division by zero\n",
      "warning: called from\n",
      "    binaryTreeTrain at line 114 column 8\n",
      "    adaBoostTrain at line 79 column 17\n",
      "    acfTrain at line 200 column 16\n",
      "warning: division by zero\n",
      "warning: called from\n",
      "    adaBoostTrain at line 84 column 31\n",
      "    acfTrain at line 200 column 16\n",
      "warning: division by zero\n",
      "warning: called from\n",
      "    binaryTreeTrain at line 114 column 8\n",
      "    adaBoostTrain at line 79 column 17\n",
      "    acfTrain at line 200 column 16\n",
      "warning: division by zero\n",
      "warning: called from\n",
      "    adaBoostTrain at line 84 column 31\n",
      "    acfTrain at line 200 column 16\n",
      "warning: division by zero\n",
      "warning: called from\n",
      "    binaryTreeTrain at line 114 column 8\n",
      "    adaBoostTrain at line 79 column 17\n",
      "    acfTrain at line 200 column 16\n",
      "warning: division by zero\n",
      "warning: called from\n",
      "    adaBoostTrain at line 84 column 31\n",
      "    acfTrain at line 200 column 16\n",
      "warning: division by zero\n",
      "warning: called from\n",
      "    binaryTreeTrain at line 114 column 8\n",
      "    adaBoostTrain at line 79 column 17\n",
      "    acfTrain at line 200 column 16\n",
      "warning: division by zero\n",
      "warning: called from\n",
      "    adaBoostTrain at line 84 column 31\n",
      "    acfTrain at line 200 column 16\n",
      "warning: division by zero\n",
      "warning: called from\n",
      "    binaryTreeTrain at line 114 column 8\n",
      "    adaBoostTrain at line 79 column 17\n",
      "    acfTrain at line 200 column 16\n",
      "warning: division by zero\n",
      "warning: called from\n",
      "    adaBoostTrain at line 84 column 31\n",
      "    acfTrain at line 200 column 16\n",
      "warning: division by zero\n",
      "warning: called from\n",
      "    binaryTreeTrain at line 114 column 8\n",
      "    adaBoostTrain at line 79 column 17\n",
      "    acfTrain at line 200 column 16\n",
      "warning: division by zero\n",
      "warning: called from\n",
      "    adaBoostTrain at line 84 column 31\n",
      "    acfTrain at line 200 column 16\n",
      "warning: division by zero\n",
      "warning: called from\n",
      "    binaryTreeTrain at line 114 column 8\n",
      "    adaBoostTrain at line 79 column 17\n",
      "    acfTrain at line 200 column 16\n",
      "warning: division by zero\n",
      "warning: called from\n",
      "    adaBoostTrain at line 84 column 31\n",
      "    acfTrain at line 200 column 16\n",
      "warning: division by zero\n",
      "warning: called from\n",
      "    binaryTreeTrain at line 114 column 8\n",
      "    adaBoostTrain at line 79 column 17\n",
      "    acfTrain at line 200 column 16\n",
      "warning: division by zero\n",
      "warning: called from\n",
      "    adaBoostTrain at line 84 column 31\n",
      "    acfTrain at line 200 column 16\n",
      "warning: division by zero\n",
      "warning: called from\n",
      "    binaryTreeTrain at line 114 column 8\n",
      "    adaBoostTrain at line 79 column 17\n",
      "    acfTrain at line 200 column 16\n",
      "warning: division by zero\n",
      "warning: called from\n",
      "    adaBoostTrain at line 84 column 31\n",
      "    acfTrain at line 200 column 16\n",
      "warning: division by zero\n",
      "warning: called from\n",
      "    binaryTreeTrain at line 114 column 8\n",
      "    adaBoostTrain at line 79 column 17\n",
      "    acfTrain at line 200 column 16\n",
      "warning: division by zero\n",
      "warning: called from\n",
      "    adaBoostTrain at line 84 column 31\n",
      "    acfTrain at line 200 column 16\n",
      "warning: division by zero\n",
      "warning: called from\n",
      "    binaryTreeTrain at line 114 column 8\n",
      "    adaBoostTrain at line 79 column 17\n",
      "    acfTrain at line 200 column 16\n",
      "warning: division by zero\n",
      "warning: called from\n",
      "    adaBoostTrain at line 84 column 31\n",
      "    acfTrain at line 200 column 16\n",
      "warning: division by zero\n",
      "warning: called from\n",
      "    binaryTreeTrain at line 114 column 8\n",
      "    adaBoostTrain at line 79 column 17\n",
      "    acfTrain at line 200 column 16\n",
      "warning: division by zero\n",
      "warning: called from\n",
      "    adaBoostTrain at line 84 column 31\n",
      "    acfTrain at line 200 column 16\n",
      "warning: division by zero\n",
      "warning: called from\n",
      "    binaryTreeTrain at line 114 column 8\n",
      "    adaBoostTrain at line 79 column 17\n",
      "    acfTrain at line 200 column 16\n",
      "warning: division by zero\n",
      "warning: called from\n",
      "    adaBoostTrain at line 84 column 31\n",
      "    acfTrain at line 200 column 16\n",
      " i=  16 alpha=5.000 err=0.000 loss=1.80e-35\n",
      "warning: division by zero\n",
      "warning: called from\n",
      "    binaryTreeTrain at line 114 column 8\n",
      "    adaBoostTrain at line 79 column 17\n",
      "    acfTrain at line 200 column 16\n",
      "warning: division by zero\n",
      "warning: called from\n",
      "    adaBoostTrain at line 84 column 31\n",
      "    acfTrain at line 200 column 16\n",
      "warning: division by zero\n",
      "warning: called from\n",
      "    binaryTreeTrain at line 114 column 8\n",
      "    adaBoostTrain at line 79 column 17\n",
      "    acfTrain at line 200 column 16\n",
      "warning: division by zero\n",
      "warning: called from\n",
      "    adaBoostTrain at line 84 column 31\n",
      "    acfTrain at line 200 column 16\n",
      "warning: division by zero\n",
      "warning: called from\n",
      "    binaryTreeTrain at line 114 column 8\n",
      "    adaBoostTrain at line 79 column 17\n",
      "    acfTrain at line 200 column 16\n",
      "warning: division by zero\n",
      "warning: called from\n",
      "    adaBoostTrain at line 84 column 31\n",
      "    acfTrain at line 200 column 16\n",
      " stopping early\n",
      "Done training err=0.0000 fp=0.0000 fn=0.0000 (t=0.1s).\n",
      "Done training stage 0 (time=1s).\n",
      "---------------------------------------------------------------------------\n",
      "Done training (time=1s).\n"
     ]
    }
   ],
   "source": [
    "opts=acfTrain();\n",
    "opts.posWinDir = 'images/simple/posWinDir/';\n",
    "opts.negWinDir = 'images/simple/negWinDir/';\n",
    "opts.modelDs = [19  19];\n",
    "opts.modelDsPad = [20  20];\n",
    "model = acfTrain(opts);"
   ]
  },
  {
   "cell_type": "markdown",
   "metadata": {},
   "source": [
    "## Test Model "
   ]
  },
  {
   "cell_type": "markdown",
   "metadata": {},
   "source": [
    "### test image\n",
    "![theron](images/theron.png)"
   ]
  },
  {
   "cell_type": "code",
   "execution_count": 6,
   "metadata": {},
   "outputs": [],
   "source": [
    "image = 'images/theron.png';\n",
    "I = imread(image);"
   ]
  },
  {
   "cell_type": "markdown",
   "metadata": {},
   "source": [
    "### run the model "
   ]
  },
  {
   "cell_type": "code",
   "execution_count": 7,
   "metadata": {},
   "outputs": [
    {
     "name": "stdout",
     "output_type": "stream",
     "text": [
      "modelHt: 20modelWd: 20modelHt: 20modelWd: 20\n",
      "modelHt: 20modelWd: 20modelHt: 20modelWd: 20\n"
     ]
    }
   ],
   "source": [
    "boundingBoxes = acfDetect(I, model);"
   ]
  },
  {
   "cell_type": "markdown",
   "metadata": {},
   "source": [
    "### results"
   ]
  },
  {
   "cell_type": "code",
   "execution_count": 30,
   "metadata": {},
   "outputs": [
    {
     "name": "stdout",
     "output_type": "stream",
     "text": [
      "boundingBoxes =\n",
      "\n",
      "   -3.64583   -3.64583   19.79167   19.79167   95.09499\n",
      "   -3.64583    4.68750   19.79167   19.79167   95.09499\n",
      "    0.52083    0.52083   19.79167   19.79167   95.09499\n",
      "    0.52083    8.85417   19.79167   19.79167   95.09499\n",
      "    4.68750   -3.64583   19.79167   19.79167   95.09499\n",
      "    4.68750    4.68750   19.79167   19.79167   95.09499\n",
      "    8.85417    0.52083   19.79167   19.79167   95.09499\n",
      "    8.85417    8.85417   19.79167   19.79167   95.09499\n",
      "\n"
     ]
    }
   ],
   "source": [
    "boundingBoxes"
   ]
  },
  {
   "cell_type": "markdown",
   "metadata": {},
   "source": [
    "### visualize results"
   ]
  },
  {
   "cell_type": "code",
   "execution_count": 55,
   "metadata": {},
   "outputs": [
    {
     "data": {
      "image/svg+xml": [
       "<svg height=\"420px\" viewBox=\"0 0 560 420\" width=\"560px\" xmlns=\"http://www.w3.org/2000/svg\" xmlns:xlink=\"http://www.w3.org/1999/xlink\">\n",
       "\n",
       "<title>Gnuplot</title>\n",
       "<desc>Produced by GNUPLOT 5.2 patchlevel 6 </desc>\n",
       "\n",
       "<g id=\"gnuplot_canvas\">\n",
       "\n",
       "<rect fill=\"#ffffff\" height=\"420\" width=\"560\" x=\"0\" y=\"0\"/>\n",
       "<defs>\n",
       "\n",
       "\t<circle id=\"gpDot\" r=\"0.5\" stroke=\"currentColor\" stroke-width=\"0.5\"/>\n",
       "\t<path d=\"M-1,0 h2 M0,-1 v2\" id=\"gpPt0\" stroke=\"currentColor\" stroke-width=\"0.357\"/>\n",
       "\t<path d=\"M-1,-1 L1,1 M1,-1 L-1,1\" id=\"gpPt1\" stroke=\"currentColor\" stroke-width=\"0.357\"/>\n",
       "\t<path d=\"M-1,0 L1,0 M0,-1 L0,1 M-1,-1 L1,1 M-1,1 L1,-1\" id=\"gpPt2\" stroke=\"currentColor\" stroke-width=\"0.357\"/>\n",
       "\t<rect height=\"2\" id=\"gpPt3\" stroke=\"currentColor\" stroke-width=\"0.357\" width=\"2\" x=\"-1\" y=\"-1\"/>\n",
       "\t<rect fill=\"currentColor\" height=\"2\" id=\"gpPt4\" stroke=\"currentColor\" stroke-width=\"0.357\" width=\"2\" x=\"-1\" y=\"-1\"/>\n",
       "\t<circle cx=\"0\" cy=\"0\" id=\"gpPt5\" r=\"1\" stroke=\"currentColor\" stroke-width=\"0.357\"/>\n",
       "\t<use fill=\"currentColor\" id=\"gpPt6\" stroke=\"none\" xlink:href=\"#gpPt5\"/>\n",
       "\t<path d=\"M0,-1.33 L-1.33,0.67 L1.33,0.67 z\" id=\"gpPt7\" stroke=\"currentColor\" stroke-width=\"0.357\"/>\n",
       "\t<use fill=\"currentColor\" id=\"gpPt8\" stroke=\"none\" xlink:href=\"#gpPt7\"/>\n",
       "\t<use id=\"gpPt9\" stroke=\"currentColor\" transform=\"rotate(180)\" xlink:href=\"#gpPt7\"/>\n",
       "\t<use fill=\"currentColor\" id=\"gpPt10\" stroke=\"none\" xlink:href=\"#gpPt9\"/>\n",
       "\t<use id=\"gpPt11\" stroke=\"currentColor\" transform=\"rotate(45)\" xlink:href=\"#gpPt3\"/>\n",
       "\t<use fill=\"currentColor\" id=\"gpPt12\" stroke=\"none\" xlink:href=\"#gpPt11\"/>\n",
       "\t<path d=\"M0,1.330 L1.265,0.411 L0.782,-1.067 L-0.782,-1.076 L-1.265,0.411 z\" id=\"gpPt13\" stroke=\"currentColor\" stroke-width=\"0.357\"/>\n",
       "\t<use fill=\"currentColor\" id=\"gpPt14\" stroke=\"none\" xlink:href=\"#gpPt13\"/>\n",
       "\t<filter filterUnits=\"objectBoundingBox\" height=\"1\" id=\"textbox\" width=\"1\" x=\"0\" y=\"0\">\n",
       "\t  <feFlood flood-color=\"#FFFFFF\" flood-opacity=\"1\" result=\"bgnd\"/>\n",
       "\t  <feComposite in=\"SourceGraphic\" in2=\"bgnd\" operator=\"atop\"/>\n",
       "\t</filter>\n",
       "\t<filter filterUnits=\"objectBoundingBox\" height=\"1\" id=\"greybox\" width=\"1\" x=\"0\" y=\"0\">\n",
       "\t  <feFlood flood-color=\"lightgrey\" flood-opacity=\"1\" result=\"grey\"/>\n",
       "\t  <feComposite in=\"SourceGraphic\" in2=\"grey\" operator=\"atop\"/>\n",
       "\t</filter>\n",
       "</defs>\n",
       "<g color=\"#FFFFFF\" fill=\"none\" stroke=\"currentColor\" stroke-linecap=\"butt\" stroke-linejoin=\"miter\" stroke-width=\"1.00\">\n",
       "</g>\n",
       "<g color=\"black\" fill=\"none\" stroke=\"currentColor\" stroke-linecap=\"butt\" stroke-linejoin=\"miter\" stroke-width=\"1.00\">\n",
       "</g>\n",
       "\t<g id=\"gnuplot_plot_1a\"><title>gnuplot_plot_1a</title>\n",
       "<g color=\"black\" fill=\"none\" stroke=\"currentColor\" stroke-linecap=\"butt\" stroke-linejoin=\"miter\" stroke-width=\"1.00\">\n",
       "<image height=\"391.3\" preserveAspectRatio=\"none\" width=\"391.3\" x=\"83.0\" xlink:href=\"data:image/png;base64,iVBORw0KGgoAAAANSUhEUgAAABkAAAAZCAIAAABLixI0AAAABmJLR0QA/wD/AP+gvaeTAAAFS0lEQVQ4jTXQ2W4cxxUA0HtvLV3d1bMPOSIpKYYe8mA4AZLX5MPzBQkCwwgQWIkTWhIti+Iy5ExP70vVvXkg8gcHB//wu+/I6t9+c9bU3dwv5t4tssRJmOlEGez7kLuUOQaQYeqnEI91+1AchxDZqND1nM6PHfbdKED6VNwt5nlVqOeimwGuvd6Y1JmZIUIlm9kyAQIlYwyRXYjRaiWR76uqaNoYgnX4cPu5KpsQopaRbeJv94cMrHc6dYlLbGJcqg2lmtASKYKgJDBDP05bIA1Qh6HqWtbKaeOztCpr5qit1q92Z9cfPr7aLJyzymgFKrXOupSsVsoqrVFBnGKYugSER/LO7uazieWhqhSSNRYEtFZ6HAdCTLRJrE6V0UCIpI2xaWZSZ22G2oJREKehOAwhxiSMIThjEp0g94LDOHTMQUB0BKyrFgEVIDIY0spqUISKAJUQogRiEWEiUsZocXocU6ut1lOYqlqYR0SJMRIDfLm9Z8DIHAnRGkWkGCgwCLPEcehC33M/AjMqRcYiaRA0qDly03Q+TWOMIKgZYJymxNkYuRnGCWBkFq3QaKMtIiGAAgg2qbv2cX9sm1oTTqCNNgg0jJ1zDomARTPgME3pOAqqX748FIdaFLzabL999+58s05zL3H65ebrX//5r2NZbubz1+ebvm1IGZtYSyoOo5/lICwCyufOW7WaL7z3iTar5aqJuK+6j58+LIwsZhmKfPx0M6FqRHVo2q7bLeZGKWttUVWhbX+/XJwYj01HEoUi5sIrn8EQv3//0/MwcJb/8U9/vi+qpusCR5NmmZ8vLy6OTfd0LEPg3OcJqXni3m4WF8vV2XoDAJpB2mFY+Ty35urdb1KfqcRdvr70qe/SWdt2GGVztl2Z/PzUvklcSnG3XEqMddMkGi+udsvVtvjvDYhoEZwE6ghrUle789dXF0qrbL12af744T8xRp4CgSy3Z2/eXPLEw+GZm7qpW44sWi22G9lsP9/dAwChgAA8nAoeRu7HtU83y8Xc6uHpqxJJlA4cFWLGEYfWKZilVsMUQ3+sagIkVIf7/TBNgKBZhBGaYYwhFo8Py0xZBSLsrIpx8uksgLR9bZ0jm8AUeex46vqxabs6IeWdvf76FQAAQAsCAJR9P8Tpsap33WRt7ZfW5AsJ/P7659Ra51TXlJnRMvTjMAxBmn4aWfwsN8uzH37+PioUFuVcgihTjJnSqXOpVd6qNEvJWItM1l3utrnPfO7DGEJddm1bVs1TXQfB2+fibz/++8fraxABAOVcAggA8HwqN5uV1eQyqxT1TQeEV1eXaZoFIgbCyO1p37ddUVUjs1jzlx/+8eH2DgBEQEC0ACCgQmKUQ1ltjCl9IoGRLD0W/fWtz2YDBLNdh0RUX5LSoMQn5tCOx7JGRAEhJBFRLknwBQYAILvVYj3zWtPH95/C09GN3ByPUHW3X77YhZvPZ4wSIzfD9PefPt0VJwBBRCQEBA2AACAiRHis6rLvpj6wd/586esw26xtvhiG0zczi7mLJDLKNMWHY3P3XAjIyxSzCIAmUoiCKIQoIDd3T+8WM+Moyd38aklZAmAy/xbGZoqBx2nqpv2pbepaICIAIokIIoiIFokALAKABAAPVXmzf1LWLvJ5lrjV9jLN52Mcu6e7fqjrpiufT8XhOXfJFPkl56UMAfX/p4BFABFFyrr9fPPr291unqgs9TCFPlSnw2G/f354ekoIrpazKgoRiMCLiEVYWBMREggLoXr5U0opoptfb0/F6VSWeZrWbdMUJxBZ++zVbi0E3aFdumxfNgIAiIRIgP8DyG5D/2dJ65YAAAAASUVORK5CYII=\" y=\"14.8\"/>\n",
       "</g>\n",
       "\t</g>\n",
       "\t<g id=\"gnuplot_plot_2a\"><title>gnuplot_plot_2a</title>\n",
       "<g color=\"black\" fill=\"none\" stroke=\"currentColor\" stroke-linecap=\"butt\" stroke-linejoin=\"miter\" stroke-width=\"1.00\">\n",
       "\t<path d=\"M327.9,14.8 L327.9,259.7 L83.0,259.7  \" stroke=\"rgb(  0, 255,   0)\"/></g>\n",
       "\t</g>\n",
       "\t<g id=\"gnuplot_plot_3a\"><title>gnuplot_plot_3a</title>\n",
       "<g color=\"black\" fill=\"none\" stroke=\"currentColor\" stroke-linecap=\"butt\" stroke-linejoin=\"miter\" stroke-width=\"1.00\">\n",
       "\t<path d=\"M83.0,80.3 L327.9,80.3 L327.9,390.1 L83.0,390.1  \" stroke=\"rgb(  0, 255,   0)\"/></g>\n",
       "\t</g>\n",
       "\t<g id=\"gnuplot_plot_4a\"><title>gnuplot_plot_4a</title>\n",
       "<g color=\"black\" fill=\"none\" stroke=\"currentColor\" stroke-linecap=\"butt\" stroke-linejoin=\"miter\" stroke-width=\"1.00\">\n",
       "\t<path d=\"M83.3,15.1 L393.1,15.1 L393.1,324.9 L83.3,324.9 L83.3,15.1  \" stroke=\"rgb(  0, 255,   0)\"/></g>\n",
       "\t</g>\n",
       "\t<g id=\"gnuplot_plot_5a\"><title>gnuplot_plot_5a</title>\n",
       "<g color=\"black\" fill=\"none\" stroke=\"currentColor\" stroke-linecap=\"butt\" stroke-linejoin=\"miter\" stroke-width=\"1.00\">\n",
       "\t<path d=\"M83.3,145.6 L393.1,145.6 L393.1,406.1 M83.3,406.1 L83.3,145.6  \" stroke=\"rgb(  0, 255,   0)\"/></g>\n",
       "\t</g>\n",
       "\t<g id=\"gnuplot_plot_6a\"><title>gnuplot_plot_6a</title>\n",
       "<g color=\"black\" fill=\"none\" stroke=\"currentColor\" stroke-linecap=\"butt\" stroke-linejoin=\"miter\" stroke-width=\"1.00\">\n",
       "\t<path d=\"M458.3,14.8 L458.3,259.7 L148.5,259.7 L148.5,14.8  \" stroke=\"rgb(  0, 255,   0)\"/></g>\n",
       "\t</g>\n",
       "\t<g id=\"gnuplot_plot_7a\"><title>gnuplot_plot_7a</title>\n",
       "<g color=\"black\" fill=\"none\" stroke=\"currentColor\" stroke-linecap=\"butt\" stroke-linejoin=\"miter\" stroke-width=\"1.00\">\n",
       "\t<path d=\"M148.5,80.3 L458.3,80.3 L458.3,390.1 L148.5,390.1 L148.5,80.3  \" stroke=\"rgb(  0, 255,   0)\"/></g>\n",
       "\t</g>\n",
       "\t<g id=\"gnuplot_plot_8a\"><title>gnuplot_plot_8a</title>\n",
       "<g color=\"black\" fill=\"none\" stroke=\"currentColor\" stroke-linecap=\"butt\" stroke-linejoin=\"miter\" stroke-width=\"1.00\">\n",
       "\t<path d=\"M213.8,15.1 L474.3,15.1 M474.3,324.9 L213.8,324.9 L213.8,15.1  \" stroke=\"rgb(  0, 255,   0)\"/></g>\n",
       "\t</g>\n",
       "\t<g id=\"gnuplot_plot_9a\"><title>gnuplot_plot_9a</title>\n",
       "<g color=\"black\" fill=\"none\" stroke=\"currentColor\" stroke-linecap=\"butt\" stroke-linejoin=\"miter\" stroke-width=\"1.00\">\n",
       "\t<path d=\"M213.8,145.6 L474.3,145.6 M213.8,406.1 L213.8,145.6  \" stroke=\"rgb(  0, 255,   0)\"/></g>\n",
       "\t</g>\n",
       "<g color=\"black\" fill=\"none\" stroke=\"currentColor\" stroke-linecap=\"butt\" stroke-linejoin=\"miter\" stroke-width=\"1.00\">\n",
       "</g>\n",
       "<g color=\"black\" fill=\"none\" stroke=\"rgb(  0,   0,   0)\" stroke-linecap=\"butt\" stroke-linejoin=\"miter\" stroke-width=\"2.00\">\n",
       "</g>\n",
       "<g color=\"black\" fill=\"none\" stroke=\"currentColor\" stroke-linecap=\"butt\" stroke-linejoin=\"miter\" stroke-width=\"2.00\">\n",
       "\t<g fill=\"rgb(255,255,255)\" font-family=\":Bold\" font-size=\"10.00\" stroke=\"none\" text-anchor=\"start\" transform=\"translate(18.1,78.0)\">\n",
       "\t\t<text><tspan font-family=\"\" font-weight=\"bold\">95.09</tspan></text>\n",
       "\t</g>\n",
       "\t<g fill=\"rgb(255,255,255)\" font-family=\":Bold\" font-size=\"10.00\" stroke=\"none\" text-anchor=\"start\" transform=\"translate(83.3,12.8)\">\n",
       "\t\t<text><tspan font-family=\"\" font-weight=\"bold\">95.09</tspan></text>\n",
       "\t</g>\n",
       "\t<g fill=\"rgb(255,255,255)\" font-family=\":Bold\" font-size=\"10.00\" stroke=\"none\" text-anchor=\"start\" transform=\"translate(83.3,143.3)\">\n",
       "\t\t<text><tspan font-family=\"\" font-weight=\"bold\">95.09</tspan></text>\n",
       "\t</g>\n",
       "\t<g fill=\"rgb(255,255,255)\" font-family=\":Bold\" font-size=\"10.00\" stroke=\"none\" text-anchor=\"start\" transform=\"translate(148.5,78.0)\">\n",
       "\t\t<text><tspan font-family=\"\" font-weight=\"bold\">95.09</tspan></text>\n",
       "\t</g>\n",
       "\t<g fill=\"rgb(255,255,255)\" font-family=\":Bold\" font-size=\"10.00\" stroke=\"none\" text-anchor=\"start\" transform=\"translate(213.8,12.8)\">\n",
       "\t\t<text><tspan font-family=\"\" font-weight=\"bold\">95.09</tspan></text>\n",
       "\t</g>\n",
       "\t<g fill=\"rgb(255,255,255)\" font-family=\":Bold\" font-size=\"10.00\" stroke=\"none\" text-anchor=\"start\" transform=\"translate(213.8,143.3)\">\n",
       "\t\t<text><tspan font-family=\"\" font-weight=\"bold\">95.09</tspan></text>\n",
       "\t</g>\n",
       "</g>\n",
       "<g color=\"black\" fill=\"none\" stroke=\"rgb(255, 255, 255)\" stroke-linecap=\"butt\" stroke-linejoin=\"miter\" stroke-width=\"0.50\">\n",
       "\t<path d=\"M83.0,406.1 L474.3,406.1 M83.0,14.8 L474.3,14.8 M83.0,406.1 L83.0,14.8 M474.3,406.1 L474.3,14.8    \" stroke=\"rgb( 38,  38,  38)\"/></g>\n",
       "<g color=\"black\" fill=\"none\" stroke=\"rgb( 38,  38,  38)\" stroke-linecap=\"butt\" stroke-linejoin=\"miter\" stroke-width=\"1.00\">\n",
       "</g>\n",
       "<g color=\"black\" fill=\"none\" stroke=\"currentColor\" stroke-linecap=\"butt\" stroke-linejoin=\"miter\" stroke-width=\"1.00\">\n",
       "</g>\n",
       "</g>\n",
       "</svg>"
      ],
      "text/plain": [
       "<IPython.core.display.SVG object>"
      ]
     },
     "metadata": {},
     "output_type": "display_data"
    }
   ],
   "source": [
    "showResOpts = {};\n",
    "showResOpts.evShow=0;       %   .evShow       - [1] if true show results of evaluation\n",
    "showResOpts.gtShow=0;       %   .gtShow       - [1] if true show ground truth\n",
    "showResOpts.dtLs='-';       %   .dtLs         - ['--'] line style for dt bbs\n",
    "showResOpts.lw=1;           %   .lw           - [3] line width\n",
    "bbGt( 'showRes', I, [], boundingBoxes, showResOpts);"
   ]
  }
 ],
 "metadata": {
  "kernelspec": {
   "display_name": "Octave",
   "language": "octave",
   "name": "octave"
  },
  "language_info": {
   "file_extension": ".m",
   "help_links": [
    {
     "text": "GNU Octave",
     "url": "https://www.gnu.org/software/octave/support.html"
    },
    {
     "text": "Octave Kernel",
     "url": "https://github.com/Calysto/octave_kernel"
    },
    {
     "text": "MetaKernel Magics",
     "url": "https://github.com/calysto/metakernel/blob/master/metakernel/magics/README.md"
    }
   ],
   "mimetype": "text/x-octave",
   "name": "octave",
   "version": "4.4.1"
  },
  "toc": {
   "base_numbering": 1,
   "nav_menu": {},
   "number_sections": true,
   "sideBar": true,
   "skip_h1_title": true,
   "title_cell": "contents",
   "title_sidebar": "contents",
   "toc_cell": true,
   "toc_position": {
    "height": "calc(100% - 180px)",
    "left": "10px",
    "top": "150px",
    "width": "263.496px"
   },
   "toc_section_display": true,
   "toc_window_display": true
  }
 },
 "nbformat": 4,
 "nbformat_minor": 2
}
