{
 "cells": [
  {
   "cell_type": "markdown",
   "metadata": {
    "toc": true
   },
   "source": [
    "<h1>contents<span class=\"tocSkip\"></span></h1>\n",
    "<div class=\"toc\"><ul class=\"toc-item\"><li><span><a href=\"#Octave\" data-toc-modified-id=\"Octave-1\"><span class=\"toc-item-num\">1&nbsp;&nbsp;</span>Octave</a></span></li><li><span><a href=\"#Piotr-Dollar's-Toolbox\" data-toc-modified-id=\"Piotr-Dollar's-Toolbox-2\"><span class=\"toc-item-num\">2&nbsp;&nbsp;</span>Piotr Dollar's Toolbox</a></span><ul class=\"toc-item\"><li><span><a href=\"#compile-&quot;mex&quot;-C++-files\" data-toc-modified-id=\"compile-&quot;mex&quot;-C++-files-2.1\"><span class=\"toc-item-num\">2.1&nbsp;&nbsp;</span>compile \"mex\" C++ files</a></span></li><li><span><a href=\"#individual-mex-compilations\" data-toc-modified-id=\"individual-mex-compilations-2.2\"><span class=\"toc-item-num\">2.2&nbsp;&nbsp;</span>individual mex compilations</a></span><ul class=\"toc-item\"><li><span><a href=\"#required-changes:-int--&gt;-mwSize-for-dimensions\" data-toc-modified-id=\"required-changes:-int-->-mwSize-for-dimensions-2.2.1\"><span class=\"toc-item-num\">2.2.1&nbsp;&nbsp;</span>required changes: int -&gt; mwSize for dimensions</a></span></li></ul></li><li><span><a href=\"#test-if-code-is-working\" data-toc-modified-id=\"test-if-code-is-working-2.3\"><span class=\"toc-item-num\">2.3&nbsp;&nbsp;</span>test if code is working</a></span></li></ul></li><li><span><a href=\"#JSONLab\" data-toc-modified-id=\"JSONLab-3\"><span class=\"toc-item-num\">3&nbsp;&nbsp;</span>JSONLab</a></span><ul class=\"toc-item\"><li><ul class=\"toc-item\"><li><span><a href=\"#clone-source-code\" data-toc-modified-id=\"clone-source-code-3.0.1\"><span class=\"toc-item-num\">3.0.1&nbsp;&nbsp;</span>clone source code</a></span></li><li><span><a href=\"#small-fix-in-'savejson.m'\" data-toc-modified-id=\"small-fix-in-'savejson.m'-3.0.2\"><span class=\"toc-item-num\">3.0.2&nbsp;&nbsp;</span>small fix in 'savejson.m'</a></span></li><li><span><a href=\"#test-converting-object-to-JSON-file\" data-toc-modified-id=\"test-converting-object-to-JSON-file-3.0.3\"><span class=\"toc-item-num\">3.0.3&nbsp;&nbsp;</span>test converting object to JSON file</a></span><ul class=\"toc-item\"><li><span><a href=\"#as-Matlab\" data-toc-modified-id=\"as-Matlab-3.0.3.1\"><span class=\"toc-item-num\">3.0.3.1&nbsp;&nbsp;</span>as Matlab</a></span></li><li><span><a href=\"#as-JSON\" data-toc-modified-id=\"as-JSON-3.0.3.2\"><span class=\"toc-item-num\">3.0.3.2&nbsp;&nbsp;</span>as JSON</a></span></li></ul></li></ul></li></ul></li><li><span><a href=\"#Python\" data-toc-modified-id=\"Python-4\"><span class=\"toc-item-num\">4&nbsp;&nbsp;</span>Python</a></span><ul class=\"toc-item\"><li><span><a href=\"#code\" data-toc-modified-id=\"code-4.1\"><span class=\"toc-item-num\">4.1&nbsp;&nbsp;</span>code</a></span></li></ul></li></ul></div>"
   ]
  },
  {
   "cell_type": "markdown",
   "metadata": {},
   "source": [
    "# Prerequisites : Install & Setup"
   ]
  },
  {
   "cell_type": "markdown",
   "metadata": {},
   "source": [
    "## Octave"
   ]
  },
  {
   "cell_type": "markdown",
   "metadata": {},
   "source": [
    "This project requries Octave or Matlab.   \n",
    "I am on a Mac, so just installed with Brew.  \n",
    "This first part of this notebook should be using Octave kernal once you have it installed.  "
   ]
  },
  {
   "cell_type": "code",
   "execution_count": 1,
   "metadata": {},
   "outputs": [],
   "source": [
    "# > brew install octave"
   ]
  },
  {
   "cell_type": "markdown",
   "metadata": {},
   "source": [
    "For this project I create an 'octave' directory for the Octave code"
   ]
  },
  {
   "cell_type": "code",
   "execution_count": 3,
   "metadata": {},
   "outputs": [],
   "source": [
    "!mkdir -p octave"
   ]
  },
  {
   "cell_type": "markdown",
   "metadata": {},
   "source": [
    "## Piotr Dollar's Toolbox "
   ]
  },
  {
   "cell_type": "code",
   "execution_count": 2,
   "metadata": {},
   "outputs": [
    {
     "name": "stdout",
     "output_type": "stream",
     "text": [
      "Cloning into 'octave/toolbox'...\n",
      "remote: Enumerating objects: 15315, done.\u001b[K\n",
      "remote: Total 15315 (delta 0), reused 0 (delta 0), pack-reused 15315\u001b[K\n",
      "Receiving objects: 100% (15315/15315), 22.80 MiB | 2.07 MiB/s, done.\n",
      "Resolving deltas: 100% (12707/12707), done.\n"
     ]
    }
   ],
   "source": [
    "!git clone https://github.com/pdollar/toolbox.git octave/toolbox"
   ]
  },
  {
   "cell_type": "code",
   "execution_count": 3,
   "metadata": {},
   "outputs": [
    {
     "name": "stdout",
     "output_type": "stream",
     "text": [
      "README.md\tclassify\tdoc\t\tfilters\t\tmatlab\n",
      "channels\tdetector\texternal\timages\t\tvideos\n"
     ]
    }
   ],
   "source": [
    "!ls octave/toolbox/"
   ]
  },
  {
   "cell_type": "markdown",
   "metadata": {},
   "source": [
    "### compile \"mex\" C++ files"
   ]
  },
  {
   "cell_type": "markdown",
   "metadata": {},
   "source": [
    "add <b>#include <stdlib.h></b> to header file octave/toolbox/channels/private/wrappers.hpp"
   ]
  },
  {
   "cell_type": "code",
   "execution_count": 4,
   "metadata": {},
   "outputs": [],
   "source": [
    "!# sed -i '.bak' '1s/^/#include <stdlib.h>\\'$'\\n/' octave/toolbox/channels/private/wrappers.hpp"
   ]
  },
  {
   "cell_type": "code",
   "execution_count": 5,
   "metadata": {},
   "outputs": [
    {
     "name": "stdout",
     "output_type": "stream",
     "text": [
      "#include <stdlib.h>\n",
      "/*******************************************************************************\n"
     ]
    }
   ],
   "source": [
    "!head -2 octave/toolbox/channels/private/wrappers.hpp"
   ]
  },
  {
   "cell_type": "markdown",
   "metadata": {},
   "source": [
    "Mac OS: For the next step, if you get errors about missing header files like, 'stdlib.h,' try 2 things:\n",
    "1. xcode-select --install # if response says it is already installed, force a reinstall by running\n",
    "2. /Library/Developer/CommandLineTools/Packages/macOS_SDK_headers_for_macOS_10.14.pkg"
   ]
  },
  {
   "cell_type": "code",
   "execution_count": 12,
   "metadata": {},
   "outputs": [
    {
     "name": "stdout",
     "output_type": "stream",
     "text": [
      "Compiling Piotr's Toolbox.......................\n",
      " -> /Users/Bhill/git/Computer_Vision_Object_Detection/octave/toolbox/channels/private/convConst.cpp\n",
      "clang-4.0: warning: argument unused during compilation: '-pthread' [-Wunused-command-line-argument]\n",
      " -> /Users/Bhill/git/Computer_Vision_Object_Detection/octave/toolbox/channels/private/gradientMex.cpp\n",
      "clang-4.0: warning: argument unused during compilation: '-pthread' [-Wunused-command-line-argument]\n",
      " -> /Users/Bhill/git/Computer_Vision_Object_Detection/octave/toolbox/channels/private/imPadMex.cpp\n",
      "clang-4.0: warning: argument unused during compilation: '-pthread' [-Wunused-command-line-argument]\n",
      " -> /Users/Bhill/git/Computer_Vision_Object_Detection/octave/toolbox/channels/private/imResampleMex.cpp\n",
      "clang-4.0: warning: argument unused during compilation: '-pthread' [-Wunused-command-line-argument]\n",
      " -> /Users/Bhill/git/Computer_Vision_Object_Detection/octave/toolbox/channels/private/rgbConvertMex.cpp\n",
      "clang-4.0: warning: argument unused during compilation: '-pthread' [-Wunused-command-line-argument]\n",
      " -> /Users/Bhill/git/Computer_Vision_Object_Detection/octave/toolbox/classify/private/binaryTreeTrain1.cpp\n",
      "mkoctfile: unrecognized argument CXXFLAGS=$CXXFLAGS -fopenmp\n",
      "warning: mkoctfile: building exited with failure status\n",
      " -> /Users/Bhill/git/Computer_Vision_Object_Detection/octave/toolbox/classify/private/fernsInds1.c\n",
      "clang-4.0: warning: argument unused during compilation: '-pthread' [-Wunused-command-line-argument]\n",
      " -> /Users/Bhill/git/Computer_Vision_Object_Detection/octave/toolbox/classify/private/forestFindThr.cpp\n",
      "clang-4.0: warning: argument unused during compilation: '-pthread' [-Wunused-command-line-argument]\n",
      " -> /Users/Bhill/git/Computer_Vision_Object_Detection/octave/toolbox/classify/private/forestInds.cpp\n",
      "mkoctfile: unrecognized argument CXXFLAGS=$CXXFLAGS -fopenmp\n",
      "warning: mkoctfile: building exited with failure status\n",
      " -> /Users/Bhill/git/Computer_Vision_Object_Detection/octave/toolbox/classify/private/meanShift1.c\n",
      "clang-4.0: warning: argument unused during compilation: '-pthread' [-Wunused-command-line-argument]\n",
      " -> /Users/Bhill/git/Computer_Vision_Object_Detection/octave/toolbox/detector/private/acfDetect1.cpp\n",
      "clang-4.0: warning: argument unused during compilation: '-pthread' [-Wunused-command-line-argument]\n",
      " -> /Users/Bhill/git/Computer_Vision_Object_Detection/octave/toolbox/images/private/assignToBins1.c\n",
      "clang-4.0: warning: argument unused during compilation: '-pthread' [-Wunused-command-line-argument]\n",
      " -> /Users/Bhill/git/Computer_Vision_Object_Detection/octave/toolbox/images/private/histc2c.c\n",
      "clang-4.0: warning: argument unused during compilation: '-pthread' [-Wunused-command-line-argument]\n",
      " -> /Users/Bhill/git/Computer_Vision_Object_Detection/octave/toolbox/images/private/imtransform2_c.c\n",
      "clang-4.0: warning: argument unused during compilation: '-pthread' [-Wunused-command-line-argument]\n",
      " -> /Users/Bhill/git/Computer_Vision_Object_Detection/octave/toolbox/images/private/nlfiltersep_max.c\n",
      "clang-4.0: warning: argument unused during compilation: '-pthread' [-Wunused-command-line-argument]\n",
      " -> /Users/Bhill/git/Computer_Vision_Object_Detection/octave/toolbox/images/private/nlfiltersep_sum.c\n",
      "clang-4.0: warning: argument unused during compilation: '-pthread' [-Wunused-command-line-argument]\n",
      " -> /Users/Bhill/git/Computer_Vision_Object_Detection/octave/toolbox/videos/private/ktComputeW_c.c\n",
      "clang-4.0: warning: argument unused during compilation: '-pthread' [-Wunused-command-line-argument]\n",
      " -> /Users/Bhill/git/Computer_Vision_Object_Detection/octave/toolbox/videos/private/ktHistcRgb_c.c\n",
      "clang-4.0: warning: argument unused during compilation: '-pthread' [-Wunused-command-line-argument]\n",
      " -> /Users/Bhill/git/Computer_Vision_Object_Detection/octave/toolbox/videos/private/opticalFlowHsMex.cpp\n",
      "clang-4.0: warning: argument unused during compilation: '-pthread' [-Wunused-command-line-argument]\n",
      " -> /Users/Bhill/git/Computer_Vision_Object_Detection/octave/toolbox/classify/private/multiclassTreeTrain1.cpp\n",
      "mkoctfile: unrecognized argument CXXFLAGS=$CXXFLAGS -fopenmp\n",
      "warning: mkoctfile: building exited with failure status\n",
      " -> /Users/Bhill/git/Computer_Vision_Object_Detection/octave/toolbox/classify/private/multiclassQuantizedTreeTrain1.cpp\n",
      "mkoctfile: unrecognized argument CXXFLAGS=$CXXFLAGS -fopenmp\n",
      "warning: mkoctfile: building exited with failure status\n",
      " -> /Users/Bhill/git/Computer_Vision_Object_Detection/octave/toolbox/detector/private/acfDetectBadacostTrees1.cpp\n",
      "mkoctfile: unrecognized argument CXXFLAGS=$CXXFLAGS -fopenmp\n",
      "warning: mkoctfile: building exited with failure status\n",
      " -> /Users/Bhill/git/Computer_Vision_Object_Detection/octave/toolbox/matlab/private/dijkstra1.cpp\n",
      "clang-4.0: warning: argument unused during compilation: '-pthread' [-Wunused-command-line-argument]\n",
      "warning: -largeArrayDims and -compatibleArrayDims are accepted for compatibility, but ignored\n",
      "..................................Done Compiling\n",
      "Elapsed time is 4.84983 seconds.\n",
      "\n"
     ]
    }
   ],
   "source": [
    "!cd octave/toolbox/external/ ; octave toolboxCompile.m"
   ]
  },
  {
   "cell_type": "markdown",
   "metadata": {},
   "source": [
    "### individual mex compilations"
   ]
  },
  {
   "cell_type": "markdown",
   "metadata": {},
   "source": [
    "#### required changes: int -> mwSize for dimensions"
   ]
  },
  {
   "cell_type": "markdown",
   "metadata": {},
   "source": [
    "change <i>int</i> to <i>mwSize</i> as needed in octave/toolbox/channels/private/gradientMex.cpp  \n",
    "otherwise you get errors like:  \n",
    "<b>error: assigning to 'const int *' from incompatible type 'const mwSize *'</b>  \n",
    "and these are not Google-friendly errors  \n",
    "you may also have to add <b>#include <iostream></b> to the tops of C++ files  \n",
    "OR just clone from mine github"
   ]
  },
  {
   "cell_type": "markdown",
   "metadata": {},
   "source": [
    "https://octave.org/doc/v4.4.1/Working-with-Matrices-and-Arrays-in-Mex_002dFiles.html"
   ]
  },
  {
   "cell_type": "code",
   "execution_count": 13,
   "metadata": {},
   "outputs": [
    {
     "name": "stdout",
     "output_type": "stream",
     "text": [
      "clang-4.0: warning: argument unused during compilation: '-pthread' [-Wunused-command-line-argument]\n"
     ]
    }
   ],
   "source": [
    "!cd octave/toolbox/channels/private/ ; mkoctfile --mex -DMATLAB_MEX_FILE rgbConvertMex.cpp\n",
    "\n",
    "!cd octave/toolbox/channels/private/ ; mkoctfile --mex -DMATLAB_MEX_FILE gradientMex.cpp\n",
    "\n",
    "!cd octave/toolbox/channels/private/ ; mkoctfile --mex -DMATLAB_MEX_FILE convConst.cpp\n",
    "\n",
    "!cd octave/toolbox/channels/private/ ; mkoctfile --mex -DMATLAB_MEX_FILE imPadMex.cpp\n",
    "\n",
    "!cd octave/toolbox/channels/private/ ; mkoctfile --mex -DMATLAB_MEX_FILE imResampleMex.cpp\n",
    "\n",
    "!cd octave/toolbox/classify/private/ ; mkoctfile --mex -DMATLAB_MEX_FILE binaryTreeTrain1.cpp\n",
    "\n",
    "!cd octave/toolbox/classify/private/ ; mkoctfile --mex -DMATLAB_MEX_FILE forestInds.cpp"
   ]
  },
  {
   "cell_type": "markdown",
   "metadata": {},
   "source": [
    "### test if code is working"
   ]
  },
  {
   "cell_type": "markdown",
   "metadata": {},
   "source": [
    "must be using Octave kernel, not Python, in notebook"
   ]
  },
  {
   "cell_type": "code",
   "execution_count": 5,
   "metadata": {},
   "outputs": [],
   "source": [
    "!rm -rf Detector.mat Log.txt"
   ]
  },
  {
   "cell_type": "code",
   "execution_count": 6,
   "metadata": {},
   "outputs": [],
   "source": [
    "clc;\n",
    "clear;\n",
    "addpath(genpath('octave'));\n",
    "# generate default options for algorithm\n",
    "opts=acfTrain();"
   ]
  },
  {
   "cell_type": "code",
   "execution_count": 7,
   "metadata": {},
   "outputs": [
    {
     "name": "stdout",
     "output_type": "stream",
     "text": [
      "ans =\n",
      "\n",
      "  scalar structure containing the fields:\n",
      "\n",
      "    pTree =\n",
      "\n",
      "      scalar structure containing the fields:\n",
      "\n",
      "        nBins =  256\n",
      "        maxDepth =  2\n",
      "        minWeight =  0.010000\n",
      "        fracFtrs =  1\n",
      "        nThreads =  16\n",
      "\n",
      "    nWeak = 0\n",
      "    discrete =  1\n",
      "    verbose =  16\n",
      "\n"
     ]
    }
   ],
   "source": [
    "# we should see something here\n",
    "opts.pBoost"
   ]
  },
  {
   "cell_type": "markdown",
   "metadata": {},
   "source": [
    "## JSONLab"
   ]
  },
  {
   "cell_type": "markdown",
   "metadata": {},
   "source": [
    "#### clone source code"
   ]
  },
  {
   "cell_type": "code",
   "execution_count": 5,
   "metadata": {},
   "outputs": [
    {
     "name": "stdout",
     "output_type": "stream",
     "text": [
      "Cloning into 'octave/jsonlab'...\n",
      "remote: Enumerating objects: 664, done.\u001b[K\n",
      "remote: Total 664 (delta 0), reused 0 (delta 0), pack-reused 664\u001b[K\n",
      "Receiving objects: 100% (664/664), 236.99 KiB | 2.85 MiB/s, done.\n",
      "Resolving deltas: 100% (396/396), done.\n"
     ]
    }
   ],
   "source": [
    "!git clone https://github.com/fangq/jsonlab.git octave/jsonlab"
   ]
  },
  {
   "cell_type": "code",
   "execution_count": 8,
   "metadata": {},
   "outputs": [
    {
     "name": "stdout",
     "output_type": "stream",
     "text": [
      "AUTHORS.txt\t\texamples\t\tsavejson.m\n",
      "ChangeLog.txt\t\tjsonopt.m\t\tsaveubjson.m\n",
      "LICENSE_BSD.txt\t\tloadjson.m\t\tstruct2jdata.m\n",
      "LICENSE_GPLv3.txt\tloadubjson.m\t\tvarargin2struct.m\n",
      "README.rst\t\tmergestruct.m\n",
      "README.txt\t\tpackage.json\n"
     ]
    }
   ],
   "source": [
    "!ls octave/jsonlab/"
   ]
  },
  {
   "cell_type": "markdown",
   "metadata": {},
   "source": [
    "#### small fix in 'savejson.m'"
   ]
  },
  {
   "cell_type": "markdown",
   "metadata": {},
   "source": [
    "![fix 1](notebook_images/jsonlab.diff.1.png)"
   ]
  },
  {
   "cell_type": "markdown",
   "metadata": {},
   "source": [
    "#### test converting object to JSON file"
   ]
  },
  {
   "cell_type": "markdown",
   "metadata": {},
   "source": [
    "##### as Matlab"
   ]
  },
  {
   "cell_type": "code",
   "execution_count": 9,
   "metadata": {},
   "outputs": [],
   "source": [
    "!rm -rf Detector.mat Log.txt"
   ]
  },
  {
   "cell_type": "code",
   "execution_count": 10,
   "metadata": {},
   "outputs": [
    {
     "name": "stdout",
     "output_type": "stream",
     "text": [
      "pBoost =\n",
      "\n",
      "  scalar structure containing the fields:\n",
      "\n",
      "    pTree =\n",
      "\n",
      "      scalar structure containing the fields:\n",
      "\n",
      "        nBins =  256\n",
      "        maxDepth =  2\n",
      "        minWeight =  0.010000\n",
      "        fracFtrs =  1\n",
      "        nThreads =  16\n",
      "\n",
      "    nWeak = 0\n",
      "    discrete =  1\n",
      "    verbose =  16\n",
      "\n"
     ]
    }
   ],
   "source": [
    "clc;\n",
    "clear;\n",
    "addpath(genpath('octave'));\n",
    "# generate default options for algorithm\n",
    "opts=acfTrain();\n",
    "pBoost = opts.pBoost;\n",
    "pBoost"
   ]
  },
  {
   "cell_type": "markdown",
   "metadata": {},
   "source": [
    "##### as JSON"
   ]
  },
  {
   "cell_type": "code",
   "execution_count": 11,
   "metadata": {},
   "outputs": [
    {
     "name": "stdout",
     "output_type": "stream",
     "text": [
      "ans = {\n",
      "\t\"pBoost\": {\n",
      "\t\t\"pTree\": {\n",
      "\t\t\t\"nBins\": 256,\n",
      "\t\t\t\"maxDepth\": 2,\n",
      "\t\t\t\"minWeight\": 0.01,\n",
      "\t\t\t\"fracFtrs\": 1,\n",
      "\t\t\t\"nThreads\": 16\n",
      "\t\t},\n",
      "\t\t\"nWeak\": 0,\n",
      "\t\t\"discrete\": 1,\n",
      "\t\t\"verbose\": 16\n",
      "\t}\n",
      "}\n",
      "\n"
     ]
    }
   ],
   "source": [
    "savejson(pBoost)"
   ]
  },
  {
   "cell_type": "markdown",
   "metadata": {},
   "source": [
    "## Python"
   ]
  },
  {
   "cell_type": "markdown",
   "metadata": {},
   "source": [
    "### code"
   ]
  },
  {
   "cell_type": "markdown",
   "metadata": {},
   "source": [
    "I've written to python classes to convert between JSON and YAML"
   ]
  },
  {
   "cell_type": "code",
   "execution_count": 29,
   "metadata": {},
   "outputs": [
    {
     "name": "stdout",
     "output_type": "stream",
     "text": [
      "json_2_yaml.py\tyaml_2_json.py\n"
     ]
    }
   ],
   "source": [
    "!ls python"
   ]
  },
  {
   "cell_type": "markdown",
   "metadata": {},
   "source": [
    "main methods"
   ]
  },
  {
   "cell_type": "code",
   "execution_count": 35,
   "metadata": {},
   "outputs": [
    {
     "name": "stdout",
     "output_type": "stream",
     "text": [
      "def main():\n",
      "    if len(sys.argv) < 3:\n",
      "        print((len(sys.argv) - 1), \" arguments passed\")\n",
      "        for arg in sys.argv:\n",
      "            print(arg)\n",
      "        print(\"you need to pass a json file and a model name as an argument.\")\n",
      "        exit(-1)\n",
      "\n"
     ]
    }
   ],
   "source": [
    "!head -15 python/json_2_yaml.py | tail -8"
   ]
  },
  {
   "cell_type": "code",
   "execution_count": 49,
   "metadata": {},
   "outputs": [
    {
     "name": "stdout",
     "output_type": "stream",
     "text": [
      "def main():\n",
      "    if len(sys.argv) < 3:\n",
      "        print((len(sys.argv) - 1), \" arguments passed\")\n",
      "        for arg in sys.argv:\n",
      "            print(arg)\n",
      "        print(\"you need to pass a yaml file and a model name as an argument.\")\n",
      "        exit(-1)\n",
      "\n",
      "    if ~path.exists(sys.argv[1]):\n",
      "        print(sys.argv[1], \" does not exist.\")\n",
      "\n",
      "    model_name = sys.argv[2]\n",
      "    yaml_file = open(sys.argv[1], 'r')\n",
      "    yaml_file_to_json_file(yaml_file, model_name)\n",
      "\n"
     ]
    }
   ],
   "source": [
    "!head -24 python/yaml_2_json.py | tail -15"
   ]
  }
 ],
 "metadata": {
  "kernelspec": {
   "display_name": "Octave",
   "language": "octave",
   "name": "octave"
  },
  "language_info": {
   "file_extension": ".m",
   "help_links": [
    {
     "text": "GNU Octave",
     "url": "https://www.gnu.org/software/octave/support.html"
    },
    {
     "text": "Octave Kernel",
     "url": "https://github.com/Calysto/octave_kernel"
    },
    {
     "text": "MetaKernel Magics",
     "url": "https://github.com/calysto/metakernel/blob/master/metakernel/magics/README.md"
    }
   ],
   "mimetype": "text/x-octave",
   "name": "octave",
   "version": "4.4.1"
  },
  "toc": {
   "base_numbering": 1,
   "nav_menu": {},
   "number_sections": true,
   "sideBar": true,
   "skip_h1_title": true,
   "title_cell": "contents",
   "title_sidebar": "contents",
   "toc_cell": true,
   "toc_position": {},
   "toc_section_display": true,
   "toc_window_display": true
  }
 },
 "nbformat": 4,
 "nbformat_minor": 2
}
